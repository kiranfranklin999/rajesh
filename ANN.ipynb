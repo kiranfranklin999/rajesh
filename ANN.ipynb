{
 "cells": [
  {
   "cell_type": "code",
   "execution_count": 11,
   "metadata": {},
   "outputs": [],
   "source": [
    "import  random\n",
    "import numpy as np\n",
    "import time\n",
    "import pickle\n",
    "import tensorflow as tf\n",
    "from tensorflow.python.saved_model import tag_constants\n",
    "import tensorflow.compat.v1 as tf\n",
    "# import tensorflow as tf\n",
    "tf.disable_v2_behavior() "
   ]
  },
  {
   "cell_type": "code",
   "execution_count": 2,
   "metadata": {},
   "outputs": [
    {
     "data": {
      "text/plain": [
       "((42039, 16), (42039, 1), (10935, 16), (10935, 1), (10934, 16), (10934, 1))"
      ]
     },
     "execution_count": 2,
     "metadata": {},
     "output_type": "execute_result"
    }
   ],
   "source": [
    "import pandas as pd\n",
    "dep_train=pd.read_csv(\"D:\\\\bro\\\\Analysis\\\\mSANN\\\\cd\\\\XTr.dat\",sep='\\s+',names=[str(i) for i in range(0,16)])\n",
    "indep_train=pd.read_csv(\"D:\\\\bro\\\\Analysis\\\\mSANN\\\\cd\\\\yTr.dat\",sep='\\s+',names=['target'])\n",
    "dep_val=pd.read_csv(\"D:\\\\bro\\\\Analysis\\\\mSANN\\\\cd\\\\XV.dat\",sep='\\s+',names=[str(i) for i in range(0,16)])\n",
    "indep_val=pd.read_csv(\"D:\\\\bro\\\\Analysis\\\\mSANN\\\\cd\\\\yV.dat\",sep='\\s+',names=[\"target\"])\n",
    "dep_test=pd.read_csv(\"D:\\\\bro\\\\Analysis\\\\mSANN\\\\cd\\\\XT.dat\",sep='\\s+',names=[str(i) for i in range(0,16)])\n",
    "indep_test=pd.read_csv(\"D:\\\\bro\\\\Analysis\\\\mSANN\\\\cd\\\\yT.dat\",sep='\\s+',names=[\"target\"])\n",
    "\n",
    "dep_train.shape,indep_train.shape,dep_val.shape,indep_val.shape,dep_test.shape,indep_test.shape"
   ]
  },
  {
   "cell_type": "code",
   "execution_count": 3,
   "metadata": {},
   "outputs": [],
   "source": [
    "# Hyper-parameters\n",
    "batch_size = 50\n",
    "num_hidden_1 = 12\n",
    "num_hidden_2 = 12\n",
    "learning_rate = 0.0001\n",
    "training_epochs = 100\n",
    "dropout_keep_prob = 0.3 # set to no dropout by default\n",
    "\n",
    "# variable to control the resolution at which the training results are stored\n",
    "display_step = 1"
   ]
  },
  {
   "cell_type": "code",
   "execution_count": 4,
   "metadata": {},
   "outputs": [],
   "source": [
    "# helper variables\n",
    "num_samples = dep_train.shape[0]\n",
    "num_features = dep_train.shape[1]\n",
    "num_outputs = 1"
   ]
  },
  {
   "cell_type": "code",
   "execution_count": 5,
   "metadata": {},
   "outputs": [],
   "source": [
    "# variable to control the resolution at which the training results are stored\n",
    "display_step = 1"
   ]
  },
  {
   "cell_type": "code",
   "execution_count": 22,
   "metadata": {},
   "outputs": [],
   "source": [
    "def accuracy(predictions, targets):\n",
    "    error = np.absolute(predictions.reshape(-1) - targets.reshape(-1))\n",
    "    return np.mean(error)\n",
    "\n",
    "def weight_variable(shape):\n",
    "    initial = tf.truncated_normal(shape, stddev=0.1)\n",
    "    return tf.Variable(initial)\n",
    "\n",
    "def bias_variable(shape):\n",
    "    initial = tf.constant(0.1, shape=shape)\n",
    "    return tf.Variable(initial)"
   ]
  },
  {
   "cell_type": "code",
   "execution_count": 7,
   "metadata": {},
   "outputs": [],
   "source": [
    "graph = tf.Graph()"
   ]
  },
  {
   "cell_type": "code",
   "execution_count": 13,
   "metadata": {},
   "outputs": [],
   "source": [
    "with graph.as_default():\n",
    "    x = tf.placeholder(tf.float32, shape=(None, num_features))\n",
    "    _y = tf.placeholder(tf.float32, shape=(None))\n",
    "    keep_prob = tf.placeholder(tf.float32)\n",
    "    tf_X_test = tf.constant(dep_test, dtype=tf.float32)\n",
    "    tf_X_train = tf.constant(dep_train, dtype=tf.float32)\n",
    "\n",
    "    W_fc1 = weight_variable([num_features, num_hidden_1])\n",
    "    b_fc1 = bias_variable([num_hidden_1])\n",
    "    \n",
    "    W_fc2 = weight_variable([num_hidden_1, num_hidden_2])\n",
    "    b_fc2 = bias_variable([num_hidden_2])\n",
    "    \n",
    "    W_fc3 = weight_variable([num_hidden_2, num_outputs])\n",
    "    b_fc3 = bias_variable([num_outputs])\n",
    "\n",
    "    def model(data, keep):\n",
    "        \n",
    "        # computing first hidden layer from input, using relu activation function\n",
    "        fc1 = tf.nn.relu(tf.matmul(data, W_fc1) + b_fc1)\n",
    "        # adding dropout to first hidden layer\n",
    "        fc1_drop = tf.nn.dropout(fc1, keep)\n",
    "        \n",
    "        # computing second hidden layer from first hidden layer, using relu activation function\n",
    "        fc2 = tf.nn.relu(tf.matmul(fc1_drop, W_fc2) + b_fc2)\n",
    "        # adding dropout to second hidden layer\n",
    "        fc2_drop = tf.nn.dropout(fc2, keep)\n",
    "        \n",
    "        # computing output layer from second hidden layer\n",
    "        # the output is a single neuron which is directly interpreted as the prediction of the target value\n",
    "        fc3 = tf.matmul(fc2_drop, W_fc3) + b_fc3\n",
    "        \n",
    "        # the output is returned from the function\n",
    "        return fc3\n",
    "    \n",
    "    prediction = model(x, keep_prob)\n",
    "    test_prediction = model(tf_X_test, 1.0)\n",
    "    train_prediction = model(tf_X_train, 1.0)\n",
    "\n",
    "    loss = tf.reduce_mean(tf.square(tf.subtract(prediction, _y)))\n",
    "    optimizer = tf.train.GradientDescentOptimizer(learning_rate).minimize(loss)\n",
    "\n",
    "    saver = tf.train.Saver()"
   ]
  },
  {
   "cell_type": "code",
   "execution_count": 19,
   "metadata": {},
   "outputs": [],
   "source": [
    "dep_train1=dep_train.to_numpy()\n",
    "dep_test1=dep_test.to_numpy()\n",
    "indep_test1=indep_test.to_numpy()\n",
    "indep_train1=indep_train.to_numpy()"
   ]
  },
  {
   "cell_type": "code",
   "execution_count": 25,
   "metadata": {},
   "outputs": [
    {
     "name": "stdout",
     "output_type": "stream",
     "text": [
      "Initialized\n",
      "<class 'numpy.ndarray'> (50, 1) (50, 1) <class 'numpy.ndarray'>\n",
      "<class 'numpy.ndarray'> (50, 1) (50, 1) <class 'numpy.ndarray'>\n",
      "<class 'numpy.ndarray'> (50, 1) (50, 1) <class 'numpy.ndarray'>\n",
      "<class 'numpy.ndarray'> (50, 1) (50, 1) <class 'numpy.ndarray'>\n",
      "<class 'numpy.ndarray'> (50, 1) (50, 1) <class 'numpy.ndarray'>\n",
      "<class 'numpy.ndarray'> (50, 1) (50, 1) <class 'numpy.ndarray'>\n",
      "<class 'numpy.ndarray'> (50, 1) (50, 1) <class 'numpy.ndarray'>\n",
      "<class 'numpy.ndarray'> (50, 1) (50, 1) <class 'numpy.ndarray'>\n",
      "<class 'numpy.ndarray'> (50, 1) (50, 1) <class 'numpy.ndarray'>\n",
      "<class 'numpy.ndarray'> (50, 1) (50, 1) <class 'numpy.ndarray'>\n",
      "<class 'numpy.ndarray'> (50, 1) (50, 1) <class 'numpy.ndarray'>\n",
      "<class 'numpy.ndarray'> (50, 1) (50, 1) <class 'numpy.ndarray'>\n",
      "<class 'numpy.ndarray'> (50, 1) (50, 1) <class 'numpy.ndarray'>\n",
      "<class 'numpy.ndarray'> (50, 1) (50, 1) <class 'numpy.ndarray'>\n",
      "<class 'numpy.ndarray'> (50, 1) (50, 1) <class 'numpy.ndarray'>\n",
      "<class 'numpy.ndarray'> (50, 1) (50, 1) <class 'numpy.ndarray'>\n",
      "<class 'numpy.ndarray'> (50, 1) (50, 1) <class 'numpy.ndarray'>\n",
      "<class 'numpy.ndarray'> (50, 1) (50, 1) <class 'numpy.ndarray'>\n",
      "<class 'numpy.ndarray'> (50, 1) (50, 1) <class 'numpy.ndarray'>\n",
      "<class 'numpy.ndarray'> (50, 1) (50, 1) <class 'numpy.ndarray'>\n",
      "<class 'numpy.ndarray'> (50, 1) (50, 1) <class 'numpy.ndarray'>\n",
      "<class 'numpy.ndarray'> (50, 1) (50, 1) <class 'numpy.ndarray'>\n",
      "<class 'numpy.ndarray'> (50, 1) (50, 1) <class 'numpy.ndarray'>\n",
      "<class 'numpy.ndarray'> (50, 1) (50, 1) <class 'numpy.ndarray'>\n",
      "<class 'numpy.ndarray'> (50, 1) (50, 1) <class 'numpy.ndarray'>\n",
      "<class 'numpy.ndarray'> (50, 1) (50, 1) <class 'numpy.ndarray'>\n",
      "<class 'numpy.ndarray'> (50, 1) (50, 1) <class 'numpy.ndarray'>\n",
      "<class 'numpy.ndarray'> (50, 1) (50, 1) <class 'numpy.ndarray'>\n",
      "<class 'numpy.ndarray'> (50, 1) (50, 1) <class 'numpy.ndarray'>\n",
      "<class 'numpy.ndarray'> (50, 1) (50, 1) <class 'numpy.ndarray'>\n",
      "<class 'numpy.ndarray'> (50, 1) (50, 1) <class 'numpy.ndarray'>\n",
      "<class 'numpy.ndarray'> (50, 1) (50, 1) <class 'numpy.ndarray'>\n",
      "<class 'numpy.ndarray'> (50, 1) (50, 1) <class 'numpy.ndarray'>\n",
      "<class 'numpy.ndarray'> (50, 1) (50, 1) <class 'numpy.ndarray'>\n",
      "<class 'numpy.ndarray'> (50, 1) (50, 1) <class 'numpy.ndarray'>\n",
      "<class 'numpy.ndarray'> (50, 1) (50, 1) <class 'numpy.ndarray'>\n",
      "<class 'numpy.ndarray'> (50, 1) (50, 1) <class 'numpy.ndarray'>\n",
      "<class 'numpy.ndarray'> (50, 1) (50, 1) <class 'numpy.ndarray'>\n",
      "<class 'numpy.ndarray'> (50, 1) (50, 1) <class 'numpy.ndarray'>\n",
      "<class 'numpy.ndarray'> (50, 1) (50, 1) <class 'numpy.ndarray'>\n",
      "<class 'numpy.ndarray'> (50, 1) (50, 1) <class 'numpy.ndarray'>\n",
      "<class 'numpy.ndarray'> (50, 1) (50, 1) <class 'numpy.ndarray'>\n",
      "<class 'numpy.ndarray'> (50, 1) (50, 1) <class 'numpy.ndarray'>\n",
      "<class 'numpy.ndarray'> (50, 1) (50, 1) <class 'numpy.ndarray'>\n",
      "<class 'numpy.ndarray'> (50, 1) (50, 1) <class 'numpy.ndarray'>\n",
      "<class 'numpy.ndarray'> (50, 1) (50, 1) <class 'numpy.ndarray'>\n",
      "<class 'numpy.ndarray'> (50, 1) (50, 1) <class 'numpy.ndarray'>\n",
      "<class 'numpy.ndarray'> (50, 1) (50, 1) <class 'numpy.ndarray'>\n",
      "<class 'numpy.ndarray'> (50, 1) (50, 1) <class 'numpy.ndarray'>\n",
      "<class 'numpy.ndarray'> (50, 1) (50, 1) <class 'numpy.ndarray'>\n",
      "<class 'numpy.ndarray'> (50, 1) (50, 1) <class 'numpy.ndarray'>\n",
      "<class 'numpy.ndarray'> (50, 1) (50, 1) <class 'numpy.ndarray'>\n",
      "<class 'numpy.ndarray'> (50, 1) (50, 1) <class 'numpy.ndarray'>\n",
      "<class 'numpy.ndarray'> (50, 1) (50, 1) <class 'numpy.ndarray'>\n",
      "<class 'numpy.ndarray'> (50, 1) (50, 1) <class 'numpy.ndarray'>\n",
      "<class 'numpy.ndarray'> (50, 1) (50, 1) <class 'numpy.ndarray'>\n",
      "<class 'numpy.ndarray'> (50, 1) (50, 1) <class 'numpy.ndarray'>\n",
      "<class 'numpy.ndarray'> (50, 1) (50, 1) <class 'numpy.ndarray'>\n",
      "<class 'numpy.ndarray'> (50, 1) (50, 1) <class 'numpy.ndarray'>\n",
      "<class 'numpy.ndarray'> (50, 1) (50, 1) <class 'numpy.ndarray'>\n",
      "<class 'numpy.ndarray'> (50, 1) (50, 1) <class 'numpy.ndarray'>\n",
      "<class 'numpy.ndarray'> (50, 1) (50, 1) <class 'numpy.ndarray'>\n",
      "<class 'numpy.ndarray'> (50, 1) (50, 1) <class 'numpy.ndarray'>\n",
      "<class 'numpy.ndarray'> (50, 1) (50, 1) <class 'numpy.ndarray'>\n",
      "<class 'numpy.ndarray'> (50, 1) (50, 1) <class 'numpy.ndarray'>\n",
      "<class 'numpy.ndarray'> (50, 1) (50, 1) <class 'numpy.ndarray'>\n",
      "<class 'numpy.ndarray'> (50, 1) (50, 1) <class 'numpy.ndarray'>\n",
      "<class 'numpy.ndarray'> (50, 1) (50, 1) <class 'numpy.ndarray'>\n",
      "<class 'numpy.ndarray'> (50, 1) (50, 1) <class 'numpy.ndarray'>\n",
      "<class 'numpy.ndarray'> (50, 1) (50, 1) <class 'numpy.ndarray'>\n",
      "<class 'numpy.ndarray'> (50, 1) (50, 1) <class 'numpy.ndarray'>\n",
      "<class 'numpy.ndarray'> (50, 1) (50, 1) <class 'numpy.ndarray'>\n",
      "<class 'numpy.ndarray'> (50, 1) (50, 1) <class 'numpy.ndarray'>\n",
      "<class 'numpy.ndarray'> (50, 1) (50, 1) <class 'numpy.ndarray'>\n",
      "<class 'numpy.ndarray'> (50, 1) (50, 1) <class 'numpy.ndarray'>\n",
      "<class 'numpy.ndarray'> (50, 1) (50, 1) <class 'numpy.ndarray'>\n",
      "<class 'numpy.ndarray'> (50, 1) (50, 1) <class 'numpy.ndarray'>\n",
      "<class 'numpy.ndarray'> (50, 1) (50, 1) <class 'numpy.ndarray'>\n",
      "<class 'numpy.ndarray'> (50, 1) (50, 1) <class 'numpy.ndarray'>\n",
      "<class 'numpy.ndarray'> (50, 1) (50, 1) <class 'numpy.ndarray'>\n",
      "<class 'numpy.ndarray'> (50, 1) (50, 1) <class 'numpy.ndarray'>\n",
      "<class 'numpy.ndarray'> (50, 1) (50, 1) <class 'numpy.ndarray'>\n",
      "<class 'numpy.ndarray'> (50, 1) (50, 1) <class 'numpy.ndarray'>\n",
      "<class 'numpy.ndarray'> (50, 1) (50, 1) <class 'numpy.ndarray'>\n",
      "<class 'numpy.ndarray'> (50, 1) (50, 1) <class 'numpy.ndarray'>\n",
      "<class 'numpy.ndarray'> (50, 1) (50, 1) <class 'numpy.ndarray'>\n",
      "<class 'numpy.ndarray'> (50, 1) (50, 1) <class 'numpy.ndarray'>\n",
      "<class 'numpy.ndarray'> (50, 1) (50, 1) <class 'numpy.ndarray'>\n",
      "<class 'numpy.ndarray'> (50, 1) (50, 1) <class 'numpy.ndarray'>\n",
      "<class 'numpy.ndarray'> (50, 1) (50, 1) <class 'numpy.ndarray'>\n",
      "<class 'numpy.ndarray'> (50, 1) (50, 1) <class 'numpy.ndarray'>\n",
      "<class 'numpy.ndarray'> (50, 1) (50, 1) <class 'numpy.ndarray'>\n",
      "<class 'numpy.ndarray'> (50, 1) (50, 1) <class 'numpy.ndarray'>\n",
      "<class 'numpy.ndarray'> (50, 1) (50, 1) <class 'numpy.ndarray'>\n",
      "<class 'numpy.ndarray'> (50, 1) (50, 1) <class 'numpy.ndarray'>\n",
      "<class 'numpy.ndarray'> (50, 1) (50, 1) <class 'numpy.ndarray'>\n",
      "<class 'numpy.ndarray'> (50, 1) (50, 1) <class 'numpy.ndarray'>\n",
      "<class 'numpy.ndarray'> (50, 1) (50, 1) <class 'numpy.ndarray'>\n",
      "<class 'numpy.ndarray'> (50, 1) (50, 1) <class 'numpy.ndarray'>\n",
      "<class 'numpy.ndarray'> (50, 1) (50, 1) <class 'numpy.ndarray'>\n",
      "Model saved in file: model1.ckpt\n"
     ]
    }
   ],
   "source": [
    "import math\n",
    "results = []\n",
    "with tf.Session(graph=graph) as session:\n",
    "    tf.initialize_all_variables().run()\n",
    "    print('Initialized')\n",
    "    for epoch in range(training_epochs):\n",
    "        indexes = list(range(num_samples))\n",
    "        # print(indexes)\n",
    "        random.shuffle(indexes)\n",
    "        for step in range(int(math.floor(num_samples/float(batch_size)))):\n",
    "            offset = step * batch_size\n",
    "            batch_data = dep_train1[indexes[offset:(offset + batch_size)]]\n",
    "            batch_labels = indep_train1[indexes[offset:(offset + batch_size)]]\n",
    "            feed_dict = {x : batch_data, _y : batch_labels, keep_prob: dropout_keep_prob}\n",
    "\n",
    "\n",
    "            _, l, p = session.run([optimizer, loss, prediction], feed_dict=feed_dict)\n",
    "\n",
    "        print(type(p),p.shape,batch_labels.shape,type(batch_labels))\n",
    "        if (epoch % display_step == 0):\n",
    "            batch_acc = accuracy(p, batch_labels)\n",
    "            train_acc =  accuracy(train_prediction.eval(session=session), indep_train1)\n",
    "            test_acc =  accuracy(test_prediction.eval(session=session), indep_test1)\n",
    "            results.append([epoch, batch_acc, train_acc, test_acc])\n",
    "\n",
    "    save_path = saver.save(session, \"model1.ckpt\")\n",
    "    print(\"Model saved in file: %s\" % save_path)"
   ]
  },
  {
   "cell_type": "code",
   "execution_count": 26,
   "metadata": {},
   "outputs": [
    {
     "name": "stdout",
     "output_type": "stream",
     "text": [
      "Minimum test loss: 0.004542813344715622\n"
     ]
    },
    {
     "data": {
      "image/png": "[encoded data removed]",
      "text/plain": [
       "<Figure size 720x288 with 1 Axes>"
      ]
     },
     "metadata": {
      "needs_background": "light"
     },
     "output_type": "display_data"
    }
   ],
   "source": [
    "import matplotlib.pyplot as plt\n",
    "df = pd.DataFrame(data=results, columns = [\"epoch\", \"batch_acc\", \"train_acc\", \"test_acc\"])\n",
    "df.set_index(\"epoch\", drop=True, inplace=True)\n",
    "\n",
    "fig, ax = plt.subplots(1, 1, figsize=(10, 4))\n",
    " \n",
    "ax.plot(df)\n",
    "ax.set(xlabel='Epoch',\n",
    "       ylabel='Error',\n",
    "       title='Training result')\n",
    " \n",
    "ax.legend(df.columns, loc=1)\n",
    "\n",
    "print (\"Minimum test loss:\", np.min(df[\"test_acc\"]))"
   ]
  },
  {
   "cell_type": "code",
   "execution_count": null,
   "metadata": {},
   "outputs": [],
   "source": []
  }
 ],
 "metadata": {
  "kernelspec": {
   "display_name": "Python 3.9.12 ('base')",
   "language": "python",
   "name": "python3"
  },
  "language_info": {
   "codemirror_mode": {
    "name": "ipython",
    "version": 3
   },
   "file_extension": ".py",
   "mimetype": "text/x-python",
   "name": "python",
   "nbconvert_exporter": "python",
   "pygments_lexer": "ipython3",
   "version": "3.9.12"
  },
  "orig_nbformat": 4,
  "vscode": {
   "interpreter": {
    "hash": "13bec6b3e23dd0921d86a1ec88a5a342f8b423eb92f661fc2c47e8b6a92d2fe9"
   }
  }
 },
 "nbformat": 4,
 "nbformat_minor": 2
}
