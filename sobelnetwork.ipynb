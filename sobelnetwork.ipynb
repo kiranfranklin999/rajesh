{
 "cells": [
  {
   "cell_type": "code",
   "execution_count": 1,
   "metadata": {},
   "outputs": [],
   "source": [
    "import tensorflow as tf\n",
    "import numpy as np\n",
    "import sklearn\n",
    "import random,os,io\n",
    "from tensorflow.keras.models import Model\n",
    "from tensorflow.keras.layers import Layer, Dense\n",
    "from tensorflow.keras.callbacks import Callback, EarlyStopping, LearningRateScheduler, ModelCheckpoint,CSVLogger\n",
    "from tensorboard.plugins.hparams import api as hp"
   ]
  },
  {
   "cell_type": "code",
   "execution_count": 2,
   "metadata": {},
   "outputs": [
    {
     "data": {
      "text/plain": [
       "((42039, 16), (42039, 1), (10935, 16), (10935, 1), (10934, 16), (10934, 1))"
      ]
     },
     "execution_count": 2,
     "metadata": {},
     "output_type": "execute_result"
    }
   ],
   "source": [
    "import pandas as pd\n",
    "dep_train=pd.read_csv(\"D:\\\\bro\\\\Analysis\\\\mSANN\\\\cd\\\\XTr.dat\",sep='\\s+',names=[str(i) for i in range(0,16)])\n",
    "indep_train=pd.read_csv(\"D:\\\\bro\\\\Analysis\\\\mSANN\\\\cd\\\\yTr.dat\",sep='\\s+',names=['target'])\n",
    "dep_val=pd.read_csv(\"D:\\\\bro\\\\Analysis\\\\mSANN\\\\cd\\\\XV.dat\",sep='\\s+',names=[str(i) for i in range(0,16)])\n",
    "indep_val=pd.read_csv(\"D:\\\\bro\\\\Analysis\\\\mSANN\\\\cd\\\\yV.dat\",sep='\\s+',names=[\"target\"])\n",
    "dep_test=pd.read_csv(\"D:\\\\bro\\\\Analysis\\\\mSANN\\\\cd\\\\XT.dat\",sep='\\s+',names=[str(i) for i in range(0,16)])\n",
    "indep_test=pd.read_csv(\"D:\\\\bro\\\\Analysis\\\\mSANN\\\\cd\\\\yT.dat\",sep='\\s+',names=[\"target\"])\n",
    "\n",
    "dep_train.shape,indep_train.shape,dep_val.shape,indep_val.shape,dep_test.shape,indep_test.shape"
   ]
  },
  {
   "cell_type": "code",
   "execution_count": 3,
   "metadata": {},
   "outputs": [],
   "source": [
    "class SobolevNetwork(Model):\n",
    "    def __init__(self, input_dim, num_hidden1,num_hidden2,num_hidden3,num_hidden4,num_hidden5,num_hidden6,dropout,init = None):\n",
    "        super(SobolevNetwork, self).__init__()\n",
    "        self.input_dim = input_dim \n",
    "       \n",
    "\n",
    "        self.W1 = tf.Variable(tf.random.normal([self.input_dim, num_hidden1],stddev=0.1))\n",
    "        self.b1 = tf.Variable(tf.ones([num_hidden1]))\n",
    "        self.dp1 = tf.keras.layers.Dropout(dropout)\n",
    "        self.W2 = tf.Variable(tf.random.normal([num_hidden1, num_hidden2],stddev=0.1))\n",
    "        self.b2 = tf.Variable(tf.ones([num_hidden2]))\n",
    "        self.dp2 = tf.keras.layers.Dropout(dropout)\n",
    "        self.W3 = tf.Variable(tf.random.normal([num_hidden2, num_hidden3],stddev=0.1))\n",
    "        self.b3 = tf.Variable(tf.ones([num_hidden3]))\n",
    "        self.dp3 = tf.keras.layers.Dropout(dropout)\n",
    "        self.W4 = tf.Variable(tf.random.normal([num_hidden3, num_hidden4],stddev=0.1))\n",
    "        self.b4 = tf.Variable(tf.ones([num_hidden4]))\n",
    "        self.dp4 = tf.keras.layers.Dropout(dropout)\n",
    "        self.W5 = tf.Variable(tf.random.normal([num_hidden4, num_hidden5],stddev=0.1))\n",
    "        self.b5 = tf.Variable(tf.ones([num_hidden5]))\n",
    "        self.dp5 = tf.keras.layers.Dropout(dropout)\n",
    "        self.W6 = tf.Variable(tf.random.normal([num_hidden5, num_hidden6],stddev=0.1))\n",
    "        self.b6 = tf.Variable(tf.ones([num_hidden6]))\n",
    "        self.dp6 = tf.keras.layers.Dropout(dropout)        \n",
    "        self.W7 = tf.Variable(tf.random.normal([num_hidden6, 1],stddev=0.1))\n",
    "        self.b7 = tf.Variable(tf.ones([1]))\n",
    "        self.w = [(self.W1, self.b1), (self.W2, self.b2), (self.W3, self.b3),(self.W4, self.b4), (self.W5, self.b5), (self.W6, self.b6),(self.W7, self.b7)]\n",
    "        \n",
    "    def call(self, X):\n",
    "        #Input layer\n",
    "        out = X\n",
    "        #Hidden layers\n",
    "        W,b = self.w[0]\n",
    "        out = tf.nn.tanh(tf.matmul(out, W) + b)\n",
    "        out = self.dp1(out)\n",
    "        W,b = self.w[1]\n",
    "        out = tf.nn.tanh(tf.matmul(out, W) + b)\n",
    "        out = self.dp2(out)\n",
    "        W,b = self.w[2]\n",
    "        out = tf.nn.sigmoid(tf.matmul(out, W) + b)\n",
    "        out = self.dp3(out)\n",
    "        W,b = self.w[3]\n",
    "        out = tf.nn.sigmoid(tf.matmul(out, W) + b)\n",
    "        out = self.dp4(out)\n",
    "        W,b = self.w[4]\n",
    "        out = tf.nn.leaky_relu(tf.matmul(out, W) + b)\n",
    "        out = self.dp5(out)\n",
    "        W,b = self.w[5]\n",
    "        out = tf.nn.relu(tf.matmul(out, W) + b)\n",
    "        #Output layer\n",
    "        W,b = self.w[-1]\n",
    "        out = tf.matmul(out, W) + b\n",
    "        return out\n"
   ]
  },
  {
   "cell_type": "code",
   "execution_count": 4,
   "metadata": {},
   "outputs": [],
   "source": [
    "es_callback = EarlyStopping( monitor='val_loss',min_delta=0,patience=5, verbose=1, mode=\"auto\", baseline=None, restore_best_weights=False)"
   ]
  },
  {
   "cell_type": "code",
   "execution_count": 5,
   "metadata": {},
   "outputs": [],
   "source": [
    "def model_builder(hp):\n",
    "\n",
    "  hp_layer_1 = hp.Int('layer_1', min_value=1, max_value=1000, step=50)\n",
    "  hp_layer_2 = hp.Int('layer_2', min_value=1, max_value=1000, step=50)\n",
    "  hp_layer_3 = hp.Int('layer_3', min_value=1, max_value=1000, step=50)\n",
    "  hp_layer_4 = hp.Int('layer_4', min_value=1, max_value=1000, step=50)\n",
    "  hp_layer_5 = hp.Int('layer_5', min_value=1, max_value=1000, step=50)\n",
    "  hp_layer_6 = hp.Int('layer_6', min_value=1, max_value=1000, step=50)\n",
    "  hp_learning_rate = hp.Choice('learning_rate', values=[1e-2, 1e-3, 1e-4])\n",
    "  hp_drop_out = hp.Choice('drop_out', values=[0.1, 0.2, 0.15])\n",
    "\n",
    "  model= SobolevNetwork(input_dim=16,num_hidden1=hp_layer_1,num_hidden2=hp_layer_2,num_hidden3=hp_layer_3,num_hidden4=hp_layer_4,num_hidden5=hp_layer_5,num_hidden6=hp_layer_6,dropout=hp_drop_out)\n",
    "  model.compile(optimizer=tf.keras.optimizers.Adam(learning_rate=hp_learning_rate),\n",
    "                loss='mean_squared_error', metrics=[\"mean_squared_error\"])\n",
    "  \n",
    "  return model"
   ]
  },
  {
   "cell_type": "code",
   "execution_count": 6,
   "metadata": {},
   "outputs": [
    {
     "name": "stdout",
     "output_type": "stream",
     "text": [
      "Trial 5 Complete [00h 01m 23s]\n",
      "val_mean_squared_error: 9.13090116227977e-05\n",
      "\n",
      "Best val_mean_squared_error So Far: 9.13090116227977e-05\n",
      "Total elapsed time: 00h 08m 16s\n",
      "INFO:tensorflow:Oracle triggered exit\n"
     ]
    }
   ],
   "source": [
    "from keras_tuner import RandomSearch\n",
    "from keras_tuner import Objective\n",
    "\n",
    "tuner1 =  RandomSearch(hypermodel=model_builder,\n",
    "                      objective=\"val_mean_squared_error\",\n",
    "                      #objective=Objective(name=\"val_mean_squared_error\",direction=\"min\"),\n",
    "                      max_trials=5,\n",
    "                      #seed=123,\n",
    "                      project_name=\"sobelbnetwork\",\n",
    "                      overwrite=True\n",
    "                    )\n",
    "\n",
    "# tuner1.search(X_train_reg, Y_train_reg, batch_size=32, epochs=10, validation_data=(X_test_reg, Y_test_reg))\n",
    "tuner1.search(dep_train, indep_train, batch_size=32, epochs=3, validation_data=(dep_val, indep_val))\n"
   ]
  },
  {
   "cell_type": "code",
   "execution_count": 7,
   "metadata": {},
   "outputs": [
    {
     "data": {
      "text/plain": [
       "{'layer_1': 251,\n",
       " 'layer_2': 601,\n",
       " 'layer_3': 201,\n",
       " 'layer_4': 51,\n",
       " 'layer_5': 951,\n",
       " 'layer_6': 401,\n",
       " 'learning_rate': 0.01,\n",
       " 'drop_out': 0.2}"
      ]
     },
     "execution_count": 7,
     "metadata": {},
     "output_type": "execute_result"
    }
   ],
   "source": [
    "best_params = tuner1.get_best_hyperparameters()\n",
    "\n",
    "best_params[0].values"
   ]
  },
  {
   "cell_type": "code",
   "execution_count": 9,
   "metadata": {},
   "outputs": [],
   "source": [
    "best_model = tuner1.get_best_models()[0]\n"
   ]
  },
  {
   "cell_type": "code",
   "execution_count": 11,
   "metadata": {},
   "outputs": [
    {
     "name": "stdout",
     "output_type": "stream",
     "text": [
      "Epoch 1/3\n",
      "1314/1314 [==============================] - 30s 23ms/step - loss: 0.0016 - mean_squared_error: 0.0016 - val_loss: 4.3801e-04 - val_mean_squared_error: 4.3801e-04\n",
      "Epoch 2/3\n",
      "1314/1314 [==============================] - 30s 23ms/step - loss: 0.0010 - mean_squared_error: 0.0010 - val_loss: 1.6574e-05 - val_mean_squared_error: 1.6574e-05\n",
      "Epoch 3/3\n",
      "1314/1314 [==============================] - 28s 21ms/step - loss: 8.3639e-04 - mean_squared_error: 8.3639e-04 - val_loss: 0.0015 - val_mean_squared_error: 0.0015\n"
     ]
    }
   ],
   "source": [
    "history=best_model.fit(dep_train, indep_train, batch_size=32, epochs=3, validation_data=(dep_val, indep_val))"
   ]
  },
  {
   "cell_type": "code",
   "execution_count": 13,
   "metadata": {},
   "outputs": [
    {
     "data": {
      "text/plain": [
       "{'loss': [0.001612399471923709, 0.001024332595989108, 0.0008363888482563198],\n",
       " 'mean_squared_error': [0.001612399471923709,\n",
       "  0.001024332595989108,\n",
       "  0.0008363888482563198],\n",
       " 'val_loss': [0.0004380123282317072,\n",
       "  1.6574380424572155e-05,\n",
       "  0.00148554309271276],\n",
       " 'val_mean_squared_error': [0.0004380123282317072,\n",
       "  1.6574380424572155e-05,\n",
       "  0.00148554309271276]}"
      ]
     },
     "execution_count": 13,
     "metadata": {},
     "output_type": "execute_result"
    }
   ],
   "source": [
    "history.history"
   ]
  },
  {
   "cell_type": "code",
   "execution_count": 14,
   "metadata": {},
   "outputs": [],
   "source": [
    "mean_squared_error = history.history['mean_squared_error']\n",
    "val_mean_squared_error = history.history['val_mean_squared_error']\n",
    "loss = history.history['loss']\n",
    "val_loss = history.history['val_loss']"
   ]
  },
  {
   "cell_type": "code",
   "execution_count": 17,
   "metadata": {},
   "outputs": [
    {
     "data": {
      "image/png": "[encoded data removed]",
      "text/plain": [
       "<Figure size 432x288 with 1 Axes>"
      ]
     },
     "metadata": {
      "needs_background": "light"
     },
     "output_type": "display_data"
    },
    {
     "data": {
      "image/png": "[encoded data removed]",
      "text/plain": [
       "<Figure size 432x288 with 1 Axes>"
      ]
     },
     "metadata": {
      "needs_background": "light"
     },
     "output_type": "display_data"
    }
   ],
   "source": [
    "import matplotlib.pyplot as plt\n",
    "\n",
    "epochs = range(1, len(mean_squared_error) + 1)\n",
    "\n",
    "plt.plot(epochs, mean_squared_error, 'bo', label='mean_squared_error ')\n",
    "plt.plot(epochs, val_mean_squared_error, 'b', label='Validation mean_squared_error')\n",
    "plt.title('Training and validation mean_squared_error')\n",
    "plt.legend()\n",
    "\n",
    "plt.figure()\n",
    "\n",
    "plt.plot(epochs, loss, 'bo', label='Training loss')\n",
    "plt.plot(epochs, val_loss, 'b', label='Validation loss')\n",
    "plt.title('Training and validation loss')\n",
    "plt.legend()\n",
    "\n",
    "plt.show()"
   ]
  },
  {
   "cell_type": "code",
   "execution_count": 18,
   "metadata": {},
   "outputs": [
    {
     "name": "stdout",
     "output_type": "stream",
     "text": [
      "342/342 [==============================] - 3s 7ms/step\n"
     ]
    }
   ],
   "source": [
    "predict_=best_model.predict(dep_test)"
   ]
  },
  {
   "cell_type": "code",
   "execution_count": 37,
   "metadata": {},
   "outputs": [],
   "source": [
    "# predict=predict_.reshape(1,0)\n",
    "predict=np.concatenate(predict_)"
   ]
  },
  {
   "cell_type": "code",
   "execution_count": 38,
   "metadata": {},
   "outputs": [],
   "source": [
    "temp_df=pd.DataFrame(zip(indep_test['target'],predict),columns=['test_y','predict_y'])\n"
   ]
  },
  {
   "cell_type": "code",
   "execution_count": 39,
   "metadata": {},
   "outputs": [
    {
     "data": {
      "text/html": [
       "<div>\n",
       "<style scoped>\n",
       "    .dataframe tbody tr th:only-of-type {\n",
       "        vertical-align: middle;\n",
       "    }\n",
       "\n",
       "    .dataframe tbody tr th {\n",
       "        vertical-align: top;\n",
       "    }\n",
       "\n",
       "    .dataframe thead th {\n",
       "        text-align: right;\n",
       "    }\n",
       "</style>\n",
       "<table border=\"1\" class=\"dataframe\">\n",
       "  <thead>\n",
       "    <tr style=\"text-align: right;\">\n",
       "      <th></th>\n",
       "      <th>test_y</th>\n",
       "      <th>predict_y</th>\n",
       "    </tr>\n",
       "  </thead>\n",
       "  <tbody>\n",
       "    <tr>\n",
       "      <th>0</th>\n",
       "      <td>0.016498</td>\n",
       "      <td>0.050218</td>\n",
       "    </tr>\n",
       "    <tr>\n",
       "      <th>1</th>\n",
       "      <td>0.014071</td>\n",
       "      <td>0.050220</td>\n",
       "    </tr>\n",
       "    <tr>\n",
       "      <th>2</th>\n",
       "      <td>0.016428</td>\n",
       "      <td>0.050218</td>\n",
       "    </tr>\n",
       "    <tr>\n",
       "      <th>3</th>\n",
       "      <td>0.012589</td>\n",
       "      <td>0.050216</td>\n",
       "    </tr>\n",
       "    <tr>\n",
       "      <th>4</th>\n",
       "      <td>0.013429</td>\n",
       "      <td>0.050218</td>\n",
       "    </tr>\n",
       "    <tr>\n",
       "      <th>...</th>\n",
       "      <td>...</td>\n",
       "      <td>...</td>\n",
       "    </tr>\n",
       "    <tr>\n",
       "      <th>10929</th>\n",
       "      <td>0.013651</td>\n",
       "      <td>0.050220</td>\n",
       "    </tr>\n",
       "    <tr>\n",
       "      <th>10930</th>\n",
       "      <td>0.015405</td>\n",
       "      <td>0.050215</td>\n",
       "    </tr>\n",
       "    <tr>\n",
       "      <th>10931</th>\n",
       "      <td>0.011664</td>\n",
       "      <td>0.050219</td>\n",
       "    </tr>\n",
       "    <tr>\n",
       "      <th>10932</th>\n",
       "      <td>0.015707</td>\n",
       "      <td>0.050219</td>\n",
       "    </tr>\n",
       "    <tr>\n",
       "      <th>10933</th>\n",
       "      <td>0.009592</td>\n",
       "      <td>0.050214</td>\n",
       "    </tr>\n",
       "  </tbody>\n",
       "</table>\n",
       "<p>10934 rows × 2 columns</p>\n",
       "</div>"
      ],
      "text/plain": [
       "         test_y  predict_y\n",
       "0      0.016498   0.050218\n",
       "1      0.014071   0.050220\n",
       "2      0.016428   0.050218\n",
       "3      0.012589   0.050216\n",
       "4      0.013429   0.050218\n",
       "...         ...        ...\n",
       "10929  0.013651   0.050220\n",
       "10930  0.015405   0.050215\n",
       "10931  0.011664   0.050219\n",
       "10932  0.015707   0.050219\n",
       "10933  0.009592   0.050214\n",
       "\n",
       "[10934 rows x 2 columns]"
      ]
     },
     "execution_count": 39,
     "metadata": {},
     "output_type": "execute_result"
    }
   ],
   "source": [
    "temp_df"
   ]
  },
  {
   "cell_type": "code",
   "execution_count": 40,
   "metadata": {},
   "outputs": [
    {
     "data": {
      "text/html": [
       "<div>\n",
       "<style scoped>\n",
       "    .dataframe tbody tr th:only-of-type {\n",
       "        vertical-align: middle;\n",
       "    }\n",
       "\n",
       "    .dataframe tbody tr th {\n",
       "        vertical-align: top;\n",
       "    }\n",
       "\n",
       "    .dataframe thead th {\n",
       "        text-align: right;\n",
       "    }\n",
       "</style>\n",
       "<table border=\"1\" class=\"dataframe\">\n",
       "  <thead>\n",
       "    <tr style=\"text-align: right;\">\n",
       "      <th></th>\n",
       "      <th>test_y</th>\n",
       "      <th>predict_y</th>\n",
       "      <th>index</th>\n",
       "    </tr>\n",
       "  </thead>\n",
       "  <tbody>\n",
       "    <tr>\n",
       "      <th>3640</th>\n",
       "      <td>0.007435</td>\n",
       "      <td>0.050214</td>\n",
       "      <td>1</td>\n",
       "    </tr>\n",
       "    <tr>\n",
       "      <th>7652</th>\n",
       "      <td>0.007471</td>\n",
       "      <td>0.050214</td>\n",
       "      <td>2</td>\n",
       "    </tr>\n",
       "    <tr>\n",
       "      <th>2785</th>\n",
       "      <td>0.007496</td>\n",
       "      <td>0.050214</td>\n",
       "      <td>3</td>\n",
       "    </tr>\n",
       "    <tr>\n",
       "      <th>10489</th>\n",
       "      <td>0.007526</td>\n",
       "      <td>0.050214</td>\n",
       "      <td>4</td>\n",
       "    </tr>\n",
       "    <tr>\n",
       "      <th>1359</th>\n",
       "      <td>0.007535</td>\n",
       "      <td>0.050214</td>\n",
       "      <td>5</td>\n",
       "    </tr>\n",
       "  </tbody>\n",
       "</table>\n",
       "</div>"
      ],
      "text/plain": [
       "         test_y  predict_y  index\n",
       "3640   0.007435   0.050214      1\n",
       "7652   0.007471   0.050214      2\n",
       "2785   0.007496   0.050214      3\n",
       "10489  0.007526   0.050214      4\n",
       "1359   0.007535   0.050214      5"
      ]
     },
     "execution_count": 40,
     "metadata": {},
     "output_type": "execute_result"
    }
   ],
   "source": [
    "temp_df=temp_df.sort_values('test_y')\n",
    "ind=[index_ for index_ in range(1,len(predict_)+1)]\n",
    "temp_df['index']=ind\n",
    "temp_df.head()"
   ]
  },
  {
   "cell_type": "code",
   "execution_count": 43,
   "metadata": {},
   "outputs": [
    {
     "data": {
      "text/html": [
       "<div>\n",
       "<style scoped>\n",
       "    .dataframe tbody tr th:only-of-type {\n",
       "        vertical-align: middle;\n",
       "    }\n",
       "\n",
       "    .dataframe tbody tr th {\n",
       "        vertical-align: top;\n",
       "    }\n",
       "\n",
       "    .dataframe thead th {\n",
       "        text-align: right;\n",
       "    }\n",
       "</style>\n",
       "<table border=\"1\" class=\"dataframe\">\n",
       "  <thead>\n",
       "    <tr style=\"text-align: right;\">\n",
       "      <th></th>\n",
       "      <th>test_y</th>\n",
       "      <th>predict_y</th>\n",
       "      <th>index</th>\n",
       "    </tr>\n",
       "  </thead>\n",
       "  <tbody>\n",
       "    <tr>\n",
       "      <th>count</th>\n",
       "      <td>10934.000000</td>\n",
       "      <td>10934.000000</td>\n",
       "      <td>10934.000000</td>\n",
       "    </tr>\n",
       "    <tr>\n",
       "      <th>mean</th>\n",
       "      <td>0.011885</td>\n",
       "      <td>0.050220</td>\n",
       "      <td>5467.500000</td>\n",
       "    </tr>\n",
       "    <tr>\n",
       "      <th>std</th>\n",
       "      <td>0.003620</td>\n",
       "      <td>0.000004</td>\n",
       "      <td>3156.518256</td>\n",
       "    </tr>\n",
       "    <tr>\n",
       "      <th>min</th>\n",
       "      <td>0.007435</td>\n",
       "      <td>0.050213</td>\n",
       "      <td>1.000000</td>\n",
       "    </tr>\n",
       "    <tr>\n",
       "      <th>25%</th>\n",
       "      <td>0.009836</td>\n",
       "      <td>0.050215</td>\n",
       "      <td>2734.250000</td>\n",
       "    </tr>\n",
       "    <tr>\n",
       "      <th>50%</th>\n",
       "      <td>0.011136</td>\n",
       "      <td>0.050218</td>\n",
       "      <td>5467.500000</td>\n",
       "    </tr>\n",
       "    <tr>\n",
       "      <th>75%</th>\n",
       "      <td>0.012847</td>\n",
       "      <td>0.050220</td>\n",
       "      <td>8200.750000</td>\n",
       "    </tr>\n",
       "    <tr>\n",
       "      <th>max</th>\n",
       "      <td>0.066101</td>\n",
       "      <td>0.050221</td>\n",
       "      <td>10934.000000</td>\n",
       "    </tr>\n",
       "  </tbody>\n",
       "</table>\n",
       "</div>"
      ],
      "text/plain": [
       "             test_y     predict_y         index\n",
       "count  10934.000000  10934.000000  10934.000000\n",
       "mean       0.011885      0.050220   5467.500000\n",
       "std        0.003620      0.000004   3156.518256\n",
       "min        0.007435      0.050213      1.000000\n",
       "25%        0.009836      0.050215   2734.250000\n",
       "50%        0.011136      0.050218   5467.500000\n",
       "75%        0.012847      0.050220   8200.750000\n",
       "max        0.066101      0.050221  10934.000000"
      ]
     },
     "execution_count": 43,
     "metadata": {},
     "output_type": "execute_result"
    }
   ],
   "source": [
    "temp_df.describe()"
   ]
  },
  {
   "cell_type": "code",
   "execution_count": 41,
   "metadata": {},
   "outputs": [
    {
     "data": {
      "text/plain": [
       "<AxesSubplot:xlabel='index'>"
      ]
     },
     "execution_count": 41,
     "metadata": {},
     "output_type": "execute_result"
    },
    {
     "data": {
      "image/png": "[encoded data removed]",
      "text/plain": [
       "<Figure size 720x360 with 1 Axes>"
      ]
     },
     "metadata": {
      "needs_background": "light"
     },
     "output_type": "display_data"
    }
   ],
   "source": [
    "temp_df.plot(x='index',y=['test_y','predict_y'],figsize=(10,5),grid=True)"
   ]
  },
  {
   "cell_type": "code",
   "execution_count": 44,
   "metadata": {},
   "outputs": [
    {
     "name": "stdout",
     "output_type": "stream",
     "text": [
      "You must install pydot (`pip install pydot`) and install graphviz (see instructions at https://graphviz.gitlab.io/download/) for plot_model to work.\n"
     ]
    }
   ],
   "source": [
    "tf.keras.utils.plot_model(best_model, show_shapes=True, rankdir=\"LR\")"
   ]
  },
  {
   "cell_type": "code",
   "execution_count": 46,
   "metadata": {},
   "outputs": [
    {
     "name": "stdout",
     "output_type": "stream",
     "text": [
      "342/342 [==============================] - 3s 7ms/step - loss: 0.0015 - mean_squared_error: 0.0015\n"
     ]
    },
    {
     "data": {
      "text/plain": [
       "(0.0014824592508375645, 0.0014824592508375645)"
      ]
     },
     "execution_count": 46,
     "metadata": {},
     "output_type": "execute_result"
    }
   ],
   "source": [
    "loss, MSE=best_model.evaluate(dep_test, indep_test)\n",
    "loss,MSE"
   ]
  },
  {
   "cell_type": "code",
   "execution_count": 58,
   "metadata": {},
   "outputs": [
    {
     "ename": "ValueError",
     "evalue": "tf.enable_eager_execution must be called at program startup.",
     "output_type": "error",
     "traceback": [
      "\u001b[1;31m---------------------------------------------------------------------------\u001b[0m",
      "\u001b[1;31mValueError\u001b[0m                                Traceback (most recent call last)",
      "\u001b[1;32md:\\bro\\Analysis\\mSANN\\cd\\test\\sobelnetwork.ipynb Cell 22\u001b[0m in \u001b[0;36m<cell line: 1>\u001b[1;34m()\u001b[0m\n\u001b[1;32m----> <a href='vscode-notebook-cell:/d%3A/bro/Analysis/mSANN/cd/test/sobelnetwork.ipynb#X30sZmlsZQ%3D%3D?line=0'>1</a>\u001b[0m tf\u001b[39m.\u001b[39;49mcompat\u001b[39m.\u001b[39;49mv1\u001b[39m.\u001b[39;49menable_eager_execution()\n\u001b[0;32m      <a href='vscode-notebook-cell:/d%3A/bro/Analysis/mSANN/cd/test/sobelnetwork.ipynb#X30sZmlsZQ%3D%3D?line=1'>2</a>\u001b[0m best_model\u001b[39m.\u001b[39msave(\u001b[39m'\u001b[39m\u001b[39mtemp_model\u001b[39m\u001b[39m'\u001b[39m,save_format \u001b[39m=\u001b[39m \u001b[39m\"\u001b[39m\u001b[39mtf\u001b[39m\u001b[39m\"\u001b[39m)\n",
      "File \u001b[1;32mc:\\Users\\kiran.franklin\\Anaconda3\\lib\\site-packages\\tensorflow\\python\\framework\\ops.py:6149\u001b[0m, in \u001b[0;36menable_eager_execution\u001b[1;34m(config, device_policy, execution_mode)\u001b[0m\n\u001b[0;32m   6147\u001b[0m logging\u001b[39m.\u001b[39mvlog(\u001b[39m1\u001b[39m, \u001b[39m\"\u001b[39m\u001b[39mEnabling eager execution\u001b[39m\u001b[39m\"\u001b[39m)\n\u001b[0;32m   6148\u001b[0m \u001b[39mif\u001b[39;00m context\u001b[39m.\u001b[39mdefault_execution_mode \u001b[39m!=\u001b[39m context\u001b[39m.\u001b[39mEAGER_MODE:\n\u001b[1;32m-> 6149\u001b[0m   \u001b[39mreturn\u001b[39;00m enable_eager_execution_internal(\n\u001b[0;32m   6150\u001b[0m       config\u001b[39m=\u001b[39;49mconfig,\n\u001b[0;32m   6151\u001b[0m       device_policy\u001b[39m=\u001b[39;49mdevice_policy,\n\u001b[0;32m   6152\u001b[0m       execution_mode\u001b[39m=\u001b[39;49mexecution_mode,\n\u001b[0;32m   6153\u001b[0m       server_def\u001b[39m=\u001b[39;49m\u001b[39mNone\u001b[39;49;00m)\n",
      "File \u001b[1;32mc:\\Users\\kiran.franklin\\Anaconda3\\lib\\site-packages\\tensorflow\\python\\framework\\ops.py:6217\u001b[0m, in \u001b[0;36menable_eager_execution_internal\u001b[1;34m(config, device_policy, execution_mode, server_def)\u001b[0m\n\u001b[0;32m   6214\u001b[0m   graph_mode_has_been_used \u001b[39m=\u001b[39m (\n\u001b[0;32m   6215\u001b[0m       _default_graph_stack\u001b[39m.\u001b[39m_global_default_graph \u001b[39mis\u001b[39;00m \u001b[39mnot\u001b[39;00m \u001b[39mNone\u001b[39;00m)  \u001b[39m# pylint: disable=protected-access\u001b[39;00m\n\u001b[0;32m   6216\u001b[0m   \u001b[39mif\u001b[39;00m graph_mode_has_been_used:\n\u001b[1;32m-> 6217\u001b[0m     \u001b[39mraise\u001b[39;00m \u001b[39mValueError\u001b[39;00m(\n\u001b[0;32m   6218\u001b[0m         \u001b[39m\"\u001b[39m\u001b[39mtf.enable_eager_execution must be called at program startup.\u001b[39m\u001b[39m\"\u001b[39m)\n\u001b[0;32m   6219\u001b[0m context\u001b[39m.\u001b[39mdefault_execution_mode \u001b[39m=\u001b[39m context\u001b[39m.\u001b[39mEAGER_MODE\n\u001b[0;32m   6220\u001b[0m \u001b[39m# pylint: disable=protected-access\u001b[39;00m\n",
      "\u001b[1;31mValueError\u001b[0m: tf.enable_eager_execution must be called at program startup."
     ]
    }
   ],
   "source": [
    "tf.compat.v1.enable_eager_execution()\n",
    "best_model.save('temp_model',save_format = \"tf\")\n"
   ]
  },
  {
   "cell_type": "code",
   "execution_count": null,
   "metadata": {},
   "outputs": [],
   "source": [
    "reloaded_model = tf.keras.models.load_model('temp_model')\n",
    "predictions = reloaded_model.predict(dep_test)"
   ]
  },
  {
   "cell_type": "code",
   "execution_count": null,
   "metadata": {},
   "outputs": [],
   "source": []
  },
  {
   "cell_type": "code",
   "execution_count": 50,
   "metadata": {},
   "outputs": [
    {
     "name": "stdout",
     "output_type": "stream",
     "text": [
      "WARNING:tensorflow:From c:\\Users\\kiran.franklin\\Anaconda3\\lib\\site-packages\\tensorflow\\python\\compat\\v2_compat.py:107: disable_resource_variables (from tensorflow.python.ops.variable_scope) is deprecated and will be removed in a future version.\n",
      "Instructions for updating:\n",
      "non-resource variables are not supported in the long term\n"
     ]
    },
    {
     "ename": "TypeError",
     "evalue": "object of type 'NoneType' has no len()",
     "output_type": "error",
     "traceback": [
      "\u001b[1;31m---------------------------------------------------------------------------\u001b[0m",
      "\u001b[1;31mTypeError\u001b[0m                                 Traceback (most recent call last)",
      "\u001b[1;32md:\\bro\\Analysis\\mSANN\\cd\\test\\sobelnetwork.ipynb Cell 25\u001b[0m in \u001b[0;36m<cell line: 4>\u001b[1;34m()\u001b[0m\n\u001b[0;32m      <a href='vscode-notebook-cell:/d%3A/bro/Analysis/mSANN/cd/test/sobelnetwork.ipynb#X34sZmlsZQ%3D%3D?line=1'>2</a>\u001b[0m \u001b[39mimport\u001b[39;00m \u001b[39mshap\u001b[39;00m\n\u001b[0;32m      <a href='vscode-notebook-cell:/d%3A/bro/Analysis/mSANN/cd/test/sobelnetwork.ipynb#X34sZmlsZQ%3D%3D?line=2'>3</a>\u001b[0m tf\u001b[39m.\u001b[39mcompat\u001b[39m.\u001b[39mv1\u001b[39m.\u001b[39mdisable_v2_behavior()\n\u001b[1;32m----> <a href='vscode-notebook-cell:/d%3A/bro/Analysis/mSANN/cd/test/sobelnetwork.ipynb#X34sZmlsZQ%3D%3D?line=3'>4</a>\u001b[0m explainer \u001b[39m=\u001b[39m shap\u001b[39m.\u001b[39;49mDeepExplainer(best_model, dep_train)\n\u001b[0;32m      <a href='vscode-notebook-cell:/d%3A/bro/Analysis/mSANN/cd/test/sobelnetwork.ipynb#X34sZmlsZQ%3D%3D?line=4'>5</a>\u001b[0m shap_values \u001b[39m=\u001b[39m explainer\u001b[39m.\u001b[39mshap_values(dep_test)\n",
      "File \u001b[1;32mc:\\Users\\kiran.franklin\\Anaconda3\\lib\\site-packages\\shap\\explainers\\_deep\\__init__.py:84\u001b[0m, in \u001b[0;36mDeep.__init__\u001b[1;34m(self, model, data, session, learning_phase_flags)\u001b[0m\n\u001b[0;32m     81\u001b[0m         framework \u001b[39m=\u001b[39m \u001b[39m'\u001b[39m\u001b[39mtensorflow\u001b[39m\u001b[39m'\u001b[39m\n\u001b[0;32m     83\u001b[0m \u001b[39mif\u001b[39;00m framework \u001b[39m==\u001b[39m \u001b[39m'\u001b[39m\u001b[39mtensorflow\u001b[39m\u001b[39m'\u001b[39m:\n\u001b[1;32m---> 84\u001b[0m     \u001b[39mself\u001b[39m\u001b[39m.\u001b[39mexplainer \u001b[39m=\u001b[39m TFDeep(model, data, session, learning_phase_flags)\n\u001b[0;32m     85\u001b[0m \u001b[39melif\u001b[39;00m framework \u001b[39m==\u001b[39m \u001b[39m'\u001b[39m\u001b[39mpytorch\u001b[39m\u001b[39m'\u001b[39m:\n\u001b[0;32m     86\u001b[0m     \u001b[39mself\u001b[39m\u001b[39m.\u001b[39mexplainer \u001b[39m=\u001b[39m PyTorchDeep(model, data)\n",
      "File \u001b[1;32mc:\\Users\\kiran.franklin\\Anaconda3\\lib\\site-packages\\shap\\explainers\\_deep\\deep_tf.py:104\u001b[0m, in \u001b[0;36mTFDeep.__init__\u001b[1;34m(self, model, data, session, learning_phase_flags)\u001b[0m\n\u001b[0;32m    102\u001b[0m \u001b[39m# determine the model inputs and outputs\u001b[39;00m\n\u001b[0;32m    103\u001b[0m \u001b[39mself\u001b[39m\u001b[39m.\u001b[39mmodel_inputs \u001b[39m=\u001b[39m _get_model_inputs(model)\n\u001b[1;32m--> 104\u001b[0m \u001b[39mself\u001b[39m\u001b[39m.\u001b[39mmodel_output \u001b[39m=\u001b[39m _get_model_output(model)\n\u001b[0;32m    105\u001b[0m \u001b[39massert\u001b[39;00m \u001b[39mtype\u001b[39m(\u001b[39mself\u001b[39m\u001b[39m.\u001b[39mmodel_output) \u001b[39m!=\u001b[39m \u001b[39mlist\u001b[39m, \u001b[39m\"\u001b[39m\u001b[39mThe model output to be explained must be a single tensor!\u001b[39m\u001b[39m\"\u001b[39m\n\u001b[0;32m    106\u001b[0m \u001b[39massert\u001b[39;00m \u001b[39mlen\u001b[39m(\u001b[39mself\u001b[39m\u001b[39m.\u001b[39mmodel_output\u001b[39m.\u001b[39mshape) \u001b[39m<\u001b[39m \u001b[39m3\u001b[39m, \u001b[39m\"\u001b[39m\u001b[39mThe model output must be a vector or a single value!\u001b[39m\u001b[39m\"\u001b[39m\n",
      "File \u001b[1;32mc:\\Users\\kiran.franklin\\Anaconda3\\lib\\site-packages\\shap\\explainers\\tf_utils.py:85\u001b[0m, in \u001b[0;36m_get_model_output\u001b[1;34m(model)\u001b[0m\n\u001b[0;32m     80\u001b[0m \u001b[39mif\u001b[39;00m \u001b[39mstr\u001b[39m(\u001b[39mtype\u001b[39m(model))\u001b[39m.\u001b[39mendswith(\u001b[39m\"\u001b[39m\u001b[39mkeras.engine.sequential.Sequential\u001b[39m\u001b[39m'\u001b[39m\u001b[39m>\u001b[39m\u001b[39m\"\u001b[39m) \u001b[39mor\u001b[39;00m \\\n\u001b[0;32m     81\u001b[0m     \u001b[39mstr\u001b[39m(\u001b[39mtype\u001b[39m(model))\u001b[39m.\u001b[39mendswith(\u001b[39m\"\u001b[39m\u001b[39mkeras.models.Sequential\u001b[39m\u001b[39m'\u001b[39m\u001b[39m>\u001b[39m\u001b[39m\"\u001b[39m) \u001b[39mor\u001b[39;00m \\\n\u001b[0;32m     82\u001b[0m     \u001b[39mstr\u001b[39m(\u001b[39mtype\u001b[39m(model))\u001b[39m.\u001b[39mendswith(\u001b[39m\"\u001b[39m\u001b[39mkeras.engine.training.Model\u001b[39m\u001b[39m'\u001b[39m\u001b[39m>\u001b[39m\u001b[39m\"\u001b[39m) \u001b[39mor\u001b[39;00m \\\n\u001b[0;32m     83\u001b[0m     \u001b[39misinstance\u001b[39m(model, tf\u001b[39m.\u001b[39mkeras\u001b[39m.\u001b[39mModel):\n\u001b[0;32m     84\u001b[0m     \u001b[39mif\u001b[39;00m \u001b[39mlen\u001b[39m(model\u001b[39m.\u001b[39mlayers[\u001b[39m-\u001b[39m\u001b[39m1\u001b[39m]\u001b[39m.\u001b[39m_inbound_nodes) \u001b[39m==\u001b[39m \u001b[39m0\u001b[39m:\n\u001b[1;32m---> 85\u001b[0m         \u001b[39mif\u001b[39;00m \u001b[39mlen\u001b[39;49m(model\u001b[39m.\u001b[39;49moutputs) \u001b[39m>\u001b[39m \u001b[39m1\u001b[39m:\n\u001b[0;32m     86\u001b[0m             warnings\u001b[39m.\u001b[39mwarn(\u001b[39m\"\u001b[39m\u001b[39mOnly one model output supported.\u001b[39m\u001b[39m\"\u001b[39m)\n\u001b[0;32m     87\u001b[0m         \u001b[39mreturn\u001b[39;00m model\u001b[39m.\u001b[39moutputs[\u001b[39m0\u001b[39m]\n",
      "\u001b[1;31mTypeError\u001b[0m: object of type 'NoneType' has no len()"
     ]
    }
   ],
   "source": [
    "# compute SHAP values\n",
    "import shap\n",
    "tf.compat.v1.disable_v2_behavior()\n",
    "background = X_train.iloc[np.random.choice(X_train.shape[0], 100, replace=False)]\n",
    "explainer = shap.DeepExplainer(best_model, dep_train)\n",
    "shap_values = explainer.shap_values(dep_test)"
   ]
  },
  {
   "cell_type": "code",
   "execution_count": null,
   "metadata": {},
   "outputs": [],
   "source": [
    "shap.summary_plot(shap_values[0], plot_type = 'bar', feature_names = test_data.columns)"
   ]
  },
  {
   "cell_type": "code",
   "execution_count": null,
   "metadata": {},
   "outputs": [],
   "source": [
    "shap.initjs()\n",
    "shap.force_plot(explainer.expected_value[0].numpy(), shap_values[0][0], features = test_data.columns)"
   ]
  },
  {
   "cell_type": "code",
   "execution_count": null,
   "metadata": {},
   "outputs": [],
   "source": [
    "shap.decision_plot(explainer.expected_value[0].numpy(), shap_values[0][0], features = test_data.iloc[0,:], feature_names = test_data.columns.tolist())"
   ]
  },
  {
   "cell_type": "code",
   "execution_count": null,
   "metadata": {},
   "outputs": [],
   "source": [
    "shap.plots._waterfall.waterfall_legacy(explainer.expected_value[0].numpy(), shap_values[0][0], feature_names = test_data.columns)"
   ]
  }
 ],
 "metadata": {
  "kernelspec": {
   "display_name": "Python 3.9.12 ('base')",
   "language": "python",
   "name": "python3"
  },
  "language_info": {
   "codemirror_mode": {
    "name": "ipython",
    "version": 3
   },
   "file_extension": ".py",
   "mimetype": "text/x-python",
   "name": "python",
   "nbconvert_exporter": "python",
   "pygments_lexer": "ipython3",
   "version": "3.9.12"
  },
  "orig_nbformat": 4,
  "vscode": {
   "interpreter": {
    "hash": "13bec6b3e23dd0921d86a1ec88a5a342f8b423eb92f661fc2c47e8b6a92d2fe9"
   }
  }
 },
 "nbformat": 4,
 "nbformat_minor": 2
}
