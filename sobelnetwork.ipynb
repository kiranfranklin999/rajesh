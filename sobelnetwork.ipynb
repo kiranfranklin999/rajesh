{
 "cells": [
  {
   "cell_type": "code",
   "execution_count": 1,
   "metadata": {},
   "outputs": [],
   "source": [
    "import tensorflow as tf\n",
    "import numpy as np\n",
    "import sklearn\n",
    "import random,os,io\n",
    "from tensorflow.keras.models import Model\n",
    "from tensorflow.keras.layers import Layer, Dense\n",
    "from tensorflow.keras.callbacks import Callback, EarlyStopping, LearningRateScheduler, ModelCheckpoint,CSVLogger\n",
    "from tensorboard.plugins.hparams import api as hp"
   ]
  },
  {
   "cell_type": "code",
   "execution_count": 2,
   "metadata": {},
   "outputs": [
    {
     "data": {
      "text/plain": [
       "((42039, 16), (42039, 1), (10935, 16), (10935, 1), (10934, 16), (10934, 1))"
      ]
     },
     "execution_count": 2,
     "metadata": {},
     "output_type": "execute_result"
    }
   ],
   "source": [
    "import pandas as pd\n",
    "dep_train=pd.read_csv(\"D:\\\\bro\\\\Analysis\\\\mSANN\\\\cd\\\\XTr.dat\",sep='\\s+',names=[str(i) for i in range(0,16)])\n",
    "indep_train=pd.read_csv(\"D:\\\\bro\\\\Analysis\\\\mSANN\\\\cd\\\\yTr.dat\",sep='\\s+',names=['target'])\n",
    "dep_val=pd.read_csv(\"D:\\\\bro\\\\Analysis\\\\mSANN\\\\cd\\\\XV.dat\",sep='\\s+',names=[str(i) for i in range(0,16)])\n",
    "indep_val=pd.read_csv(\"D:\\\\bro\\\\Analysis\\\\mSANN\\\\cd\\\\yV.dat\",sep='\\s+',names=[\"target\"])\n",
    "dep_test=pd.read_csv(\"D:\\\\bro\\\\Analysis\\\\mSANN\\\\cd\\\\XT.dat\",sep='\\s+',names=[str(i) for i in range(0,16)])\n",
    "indep_test=pd.read_csv(\"D:\\\\bro\\\\Analysis\\\\mSANN\\\\cd\\\\yT.dat\",sep='\\s+',names=[\"target\"])\n",
    "\n",
    "dep_train.shape,indep_train.shape,dep_val.shape,indep_val.shape,dep_test.shape,indep_test.shape"
   ]
  },
  {
   "cell_type": "code",
   "execution_count": 3,
   "metadata": {},
   "outputs": [
    {
     "data": {
      "text/html": [
       "<div>\n",
       "<style scoped>\n",
       "    .dataframe tbody tr th:only-of-type {\n",
       "        vertical-align: middle;\n",
       "    }\n",
       "\n",
       "    .dataframe tbody tr th {\n",
       "        vertical-align: top;\n",
       "    }\n",
       "\n",
       "    .dataframe thead th {\n",
       "        text-align: right;\n",
       "    }\n",
       "</style>\n",
       "<table border=\"1\" class=\"dataframe\">\n",
       "  <thead>\n",
       "    <tr style=\"text-align: right;\">\n",
       "      <th></th>\n",
       "      <th>0</th>\n",
       "      <th>1</th>\n",
       "      <th>2</th>\n",
       "      <th>3</th>\n",
       "      <th>4</th>\n",
       "      <th>5</th>\n",
       "      <th>6</th>\n",
       "      <th>7</th>\n",
       "      <th>8</th>\n",
       "      <th>9</th>\n",
       "      <th>10</th>\n",
       "      <th>11</th>\n",
       "      <th>12</th>\n",
       "      <th>13</th>\n",
       "      <th>14</th>\n",
       "      <th>15</th>\n",
       "    </tr>\n",
       "  </thead>\n",
       "  <tbody>\n",
       "    <tr>\n",
       "      <th>count</th>\n",
       "      <td>42039.000000</td>\n",
       "      <td>42039.000000</td>\n",
       "      <td>42039.000000</td>\n",
       "      <td>42039.000000</td>\n",
       "      <td>42039.000000</td>\n",
       "      <td>42039.000000</td>\n",
       "      <td>42039.000000</td>\n",
       "      <td>42039.000000</td>\n",
       "      <td>42039.000000</td>\n",
       "      <td>42039.000000</td>\n",
       "      <td>42039.000000</td>\n",
       "      <td>42039.000000</td>\n",
       "      <td>42039.000000</td>\n",
       "      <td>42039.000000</td>\n",
       "      <td>42039.000000</td>\n",
       "      <td>42039.000000</td>\n",
       "    </tr>\n",
       "    <tr>\n",
       "      <th>mean</th>\n",
       "      <td>-0.248356</td>\n",
       "      <td>-0.004138</td>\n",
       "      <td>-0.002063</td>\n",
       "      <td>-0.000411</td>\n",
       "      <td>-0.000244</td>\n",
       "      <td>0.000038</td>\n",
       "      <td>0.000032</td>\n",
       "      <td>-0.955813</td>\n",
       "      <td>0.001766</td>\n",
       "      <td>-0.002187</td>\n",
       "      <td>-0.001022</td>\n",
       "      <td>-0.000561</td>\n",
       "      <td>0.000159</td>\n",
       "      <td>-0.000144</td>\n",
       "      <td>0.451158</td>\n",
       "      <td>2.030716</td>\n",
       "    </tr>\n",
       "    <tr>\n",
       "      <th>std</th>\n",
       "      <td>0.143186</td>\n",
       "      <td>0.017691</td>\n",
       "      <td>0.006818</td>\n",
       "      <td>0.002907</td>\n",
       "      <td>0.002112</td>\n",
       "      <td>0.001049</td>\n",
       "      <td>0.000804</td>\n",
       "      <td>0.314483</td>\n",
       "      <td>0.040846</td>\n",
       "      <td>0.019695</td>\n",
       "      <td>0.008817</td>\n",
       "      <td>0.004493</td>\n",
       "      <td>0.002566</td>\n",
       "      <td>0.001893</td>\n",
       "      <td>0.086088</td>\n",
       "      <td>1.827649</td>\n",
       "    </tr>\n",
       "    <tr>\n",
       "      <th>min</th>\n",
       "      <td>-0.497415</td>\n",
       "      <td>-0.136435</td>\n",
       "      <td>-0.038454</td>\n",
       "      <td>-0.014248</td>\n",
       "      <td>-0.008885</td>\n",
       "      <td>-0.006627</td>\n",
       "      <td>-0.003817</td>\n",
       "      <td>-1.499592</td>\n",
       "      <td>-0.227272</td>\n",
       "      <td>-0.101638</td>\n",
       "      <td>-0.059503</td>\n",
       "      <td>-0.036878</td>\n",
       "      <td>-0.014407</td>\n",
       "      <td>-0.009225</td>\n",
       "      <td>0.300213</td>\n",
       "      <td>-1.198834</td>\n",
       "    </tr>\n",
       "    <tr>\n",
       "      <th>25%</th>\n",
       "      <td>-0.371456</td>\n",
       "      <td>-0.015947</td>\n",
       "      <td>-0.006744</td>\n",
       "      <td>-0.002432</td>\n",
       "      <td>-0.001656</td>\n",
       "      <td>-0.000697</td>\n",
       "      <td>-0.000500</td>\n",
       "      <td>-1.227219</td>\n",
       "      <td>-0.023441</td>\n",
       "      <td>-0.016485</td>\n",
       "      <td>-0.007183</td>\n",
       "      <td>-0.003799</td>\n",
       "      <td>-0.001689</td>\n",
       "      <td>-0.001545</td>\n",
       "      <td>0.377545</td>\n",
       "      <td>0.466435</td>\n",
       "    </tr>\n",
       "    <tr>\n",
       "      <th>50%</th>\n",
       "      <td>-0.247950</td>\n",
       "      <td>-0.003717</td>\n",
       "      <td>-0.002128</td>\n",
       "      <td>-0.000507</td>\n",
       "      <td>-0.000342</td>\n",
       "      <td>-0.000014</td>\n",
       "      <td>0.000057</td>\n",
       "      <td>-0.956767</td>\n",
       "      <td>0.004604</td>\n",
       "      <td>-0.004193</td>\n",
       "      <td>-0.001187</td>\n",
       "      <td>-0.000539</td>\n",
       "      <td>0.000047</td>\n",
       "      <td>-0.000227</td>\n",
       "      <td>0.452744</td>\n",
       "      <td>2.031259</td>\n",
       "    </tr>\n",
       "    <tr>\n",
       "      <th>75%</th>\n",
       "      <td>-0.125162</td>\n",
       "      <td>0.007631</td>\n",
       "      <td>0.002595</td>\n",
       "      <td>0.001448</td>\n",
       "      <td>0.001014</td>\n",
       "      <td>0.000713</td>\n",
       "      <td>0.000558</td>\n",
       "      <td>-0.686958</td>\n",
       "      <td>0.030148</td>\n",
       "      <td>0.010435</td>\n",
       "      <td>0.004850</td>\n",
       "      <td>0.002828</td>\n",
       "      <td>0.001818</td>\n",
       "      <td>0.001189</td>\n",
       "      <td>0.524987</td>\n",
       "      <td>3.600611</td>\n",
       "    </tr>\n",
       "    <tr>\n",
       "      <th>max</th>\n",
       "      <td>0.000064</td>\n",
       "      <td>0.065562</td>\n",
       "      <td>0.038597</td>\n",
       "      <td>0.019244</td>\n",
       "      <td>0.012764</td>\n",
       "      <td>0.005687</td>\n",
       "      <td>0.007473</td>\n",
       "      <td>-0.403419</td>\n",
       "      <td>0.300085</td>\n",
       "      <td>0.097836</td>\n",
       "      <td>0.037676</td>\n",
       "      <td>0.017639</td>\n",
       "      <td>0.022246</td>\n",
       "      <td>0.008829</td>\n",
       "      <td>0.599638</td>\n",
       "      <td>5.194131</td>\n",
       "    </tr>\n",
       "  </tbody>\n",
       "</table>\n",
       "</div>"
      ],
      "text/plain": [
       "                  0             1             2             3             4  \\\n",
       "count  42039.000000  42039.000000  42039.000000  42039.000000  42039.000000   \n",
       "mean      -0.248356     -0.004138     -0.002063     -0.000411     -0.000244   \n",
       "std        0.143186      0.017691      0.006818      0.002907      0.002112   \n",
       "min       -0.497415     -0.136435     -0.038454     -0.014248     -0.008885   \n",
       "25%       -0.371456     -0.015947     -0.006744     -0.002432     -0.001656   \n",
       "50%       -0.247950     -0.003717     -0.002128     -0.000507     -0.000342   \n",
       "75%       -0.125162      0.007631      0.002595      0.001448      0.001014   \n",
       "max        0.000064      0.065562      0.038597      0.019244      0.012764   \n",
       "\n",
       "                  5             6             7             8             9  \\\n",
       "count  42039.000000  42039.000000  42039.000000  42039.000000  42039.000000   \n",
       "mean       0.000038      0.000032     -0.955813      0.001766     -0.002187   \n",
       "std        0.001049      0.000804      0.314483      0.040846      0.019695   \n",
       "min       -0.006627     -0.003817     -1.499592     -0.227272     -0.101638   \n",
       "25%       -0.000697     -0.000500     -1.227219     -0.023441     -0.016485   \n",
       "50%       -0.000014      0.000057     -0.956767      0.004604     -0.004193   \n",
       "75%        0.000713      0.000558     -0.686958      0.030148      0.010435   \n",
       "max        0.005687      0.007473     -0.403419      0.300085      0.097836   \n",
       "\n",
       "                 10            11            12            13            14  \\\n",
       "count  42039.000000  42039.000000  42039.000000  42039.000000  42039.000000   \n",
       "mean      -0.001022     -0.000561      0.000159     -0.000144      0.451158   \n",
       "std        0.008817      0.004493      0.002566      0.001893      0.086088   \n",
       "min       -0.059503     -0.036878     -0.014407     -0.009225      0.300213   \n",
       "25%       -0.007183     -0.003799     -0.001689     -0.001545      0.377545   \n",
       "50%       -0.001187     -0.000539      0.000047     -0.000227      0.452744   \n",
       "75%        0.004850      0.002828      0.001818      0.001189      0.524987   \n",
       "max        0.037676      0.017639      0.022246      0.008829      0.599638   \n",
       "\n",
       "                 15  \n",
       "count  42039.000000  \n",
       "mean       2.030716  \n",
       "std        1.827649  \n",
       "min       -1.198834  \n",
       "25%        0.466435  \n",
       "50%        2.031259  \n",
       "75%        3.600611  \n",
       "max        5.194131  "
      ]
     },
     "execution_count": 3,
     "metadata": {},
     "output_type": "execute_result"
    }
   ],
   "source": [
    "dep_train.describe()"
   ]
  },
  {
   "cell_type": "code",
   "execution_count": 4,
   "metadata": {},
   "outputs": [],
   "source": [
    "class SobolevNetwork(Model):\n",
    "    def __init__(self, input_dim, num_hidden1,num_hidden2,num_hidden3,num_hidden4,num_hidden5,num_hidden6,dropout,init = None):\n",
    "        super(SobolevNetwork, self).__init__()\n",
    "        self.input_dim = input_dim \n",
    "       \n",
    "\n",
    "        self.W1 = tf.Variable(tf.random.normal([self.input_dim, num_hidden1],stddev=0.1))\n",
    "        self.b1 = tf.Variable(tf.ones([num_hidden1]))\n",
    "        self.dp1 = tf.keras.layers.Dropout(dropout)\n",
    "        self.W2 = tf.Variable(tf.random.normal([num_hidden1, num_hidden2],stddev=0.1))\n",
    "        self.b2 = tf.Variable(tf.ones([num_hidden2]))\n",
    "        self.dp2 = tf.keras.layers.Dropout(dropout)\n",
    "        self.W3 = tf.Variable(tf.random.normal([num_hidden2, num_hidden3],stddev=0.1))\n",
    "        self.b3 = tf.Variable(tf.ones([num_hidden3]))\n",
    "        self.dp3 = tf.keras.layers.Dropout(dropout)\n",
    "        self.W4 = tf.Variable(tf.random.normal([num_hidden3, num_hidden4],stddev=0.1))\n",
    "        self.b4 = tf.Variable(tf.ones([num_hidden4]))\n",
    "        self.dp4 = tf.keras.layers.Dropout(dropout)\n",
    "        self.W5 = tf.Variable(tf.random.normal([num_hidden4, num_hidden5],stddev=0.1))\n",
    "        self.b5 = tf.Variable(tf.ones([num_hidden5]))\n",
    "        self.dp5 = tf.keras.layers.Dropout(dropout)\n",
    "        self.W6 = tf.Variable(tf.random.normal([num_hidden5, num_hidden6],stddev=0.1))\n",
    "        self.b6 = tf.Variable(tf.ones([num_hidden6]))\n",
    "        self.dp6 = tf.keras.layers.Dropout(dropout)        \n",
    "        self.W7 = tf.Variable(tf.random.normal([num_hidden6, 1],stddev=0.1))\n",
    "        self.b7 = tf.Variable(tf.ones([1]))\n",
    "        self.w = [(self.W1, self.b1), (self.W2, self.b2), (self.W3, self.b3),(self.W4, self.b4), (self.W5, self.b5), (self.W6, self.b6),(self.W7, self.b7)]\n",
    "        \n",
    "    def call(self, X):\n",
    "        #Input layer\n",
    "        out = X\n",
    "        #Hidden layers\n",
    "        W,b = self.w[0]\n",
    "        out = tf.nn.tanh(tf.matmul(out, W) + b)\n",
    "        out = self.dp1(out)\n",
    "        W,b = self.w[1]\n",
    "        out = tf.nn.tanh(tf.matmul(out, W) + b)\n",
    "        out = self.dp2(out)\n",
    "        W,b = self.w[2]\n",
    "        out = tf.nn.sigmoid(tf.matmul(out, W) + b)\n",
    "        out = self.dp3(out)\n",
    "        W,b = self.w[3]\n",
    "        out = tf.nn.sigmoid(tf.matmul(out, W) + b)\n",
    "        out = self.dp4(out)\n",
    "        W,b = self.w[4]\n",
    "        out = tf.nn.leaky_relu(tf.matmul(out, W) + b)\n",
    "        out = self.dp5(out)\n",
    "        W,b = self.w[5]\n",
    "        out = tf.nn.relu(tf.matmul(out, W) + b)\n",
    "        #Output layer\n",
    "        W,b = self.w[-1]\n",
    "        out = tf.matmul(out, W) + b\n",
    "        return out\n"
   ]
  },
  {
   "cell_type": "code",
   "execution_count": 5,
   "metadata": {},
   "outputs": [],
   "source": [
    "es_callback = EarlyStopping( monitor='val_loss',min_delta=0,patience=10, verbose=1, mode=\"auto\", baseline=None, restore_best_weights=False)"
   ]
  },
  {
   "cell_type": "code",
   "execution_count": 6,
   "metadata": {},
   "outputs": [],
   "source": [
    "def model_builder(hp):\n",
    "\n",
    "  hp_layer_1 = hp.Int('layer_1', min_value=1, max_value=200, step=5)\n",
    "  hp_layer_2 = hp.Int('layer_2', min_value=1, max_value=200, step=5)\n",
    "  hp_layer_3 = hp.Int('layer_3', min_value=1, max_value=200, step=5)\n",
    "  hp_layer_4 = hp.Int('layer_4', min_value=1, max_value=200, step=5)\n",
    "  hp_layer_5 = hp.Int('layer_5', min_value=1, max_value=200, step=5)\n",
    "  hp_layer_6 = hp.Int('layer_6', min_value=1, max_value=200, step=5)\n",
    "  hp_learning_rate = hp.Choice('learning_rate', values=[1e-2, 1e-3, 1e-4])\n",
    "  hp_drop_out = hp.Choice('drop_out', values=[0.1, 0.2, 0.15,0.5, 0.25,0.75])\n",
    "\n",
    "  model= SobolevNetwork(input_dim=16,num_hidden1=hp_layer_1,num_hidden2=hp_layer_2,num_hidden3=hp_layer_3,num_hidden4=hp_layer_4,num_hidden5=hp_layer_5,num_hidden6=hp_layer_6,dropout=hp_drop_out)\n",
    "  model.compile(optimizer=tf.keras.optimizers.Adam(learning_rate=hp_learning_rate),\n",
    "                loss='mean_squared_error', metrics=[\"mean_squared_error\",\"mean_absolute_error\",\"mean_absolute_percentage_error\",\"mean_squared_logarithmic_error\"])\n",
    "  \n",
    "  return model"
   ]
  },
  {
   "cell_type": "code",
   "execution_count": 7,
   "metadata": {},
   "outputs": [
    {
     "name": "stdout",
     "output_type": "stream",
     "text": [
      "Trial 5 Complete [00h 01m 20s]\n",
      "val_mean_squared_error: 1.4933859347365797e-05\n",
      "\n",
      "Best val_mean_squared_error So Far: 1.4930246834410354e-05\n",
      "Total elapsed time: 00h 04m 41s\n",
      "INFO:tensorflow:Oracle triggered exit\n"
     ]
    }
   ],
   "source": [
    "from keras_tuner import RandomSearch\n",
    "from keras_tuner import Objective\n",
    "\n",
    "tuner1 =  RandomSearch(hypermodel=model_builder,\n",
    "                      objective=\"val_mean_squared_error\",\n",
    "                      #objective=Objective(name=\"val_mean_squared_error\",direction=\"min\"),\n",
    "                      max_trials=5,\n",
    "                      #seed=123,\n",
    "                      project_name=\"test_23\",\n",
    "                      overwrite=True\n",
    "                    )\n",
    "\n",
    "# tuner1.search(X_train_reg, Y_train_reg, batch_size=32, epochs=10, validation_data=(X_test_reg, Y_test_reg))\n",
    "tuner1.search(dep_train, indep_train, batch_size=16, epochs=4, validation_data=(dep_val, indep_val))\n"
   ]
  },
  {
   "cell_type": "code",
   "execution_count": 8,
   "metadata": {},
   "outputs": [
    {
     "data": {
      "text/plain": [
       "{'layer_1': 81,\n",
       " 'layer_2': 36,\n",
       " 'layer_3': 46,\n",
       " 'layer_4': 41,\n",
       " 'layer_5': 1,\n",
       " 'layer_6': 36,\n",
       " 'learning_rate': 0.001,\n",
       " 'drop_out': 0.1}"
      ]
     },
     "execution_count": 8,
     "metadata": {},
     "output_type": "execute_result"
    }
   ],
   "source": [
    "best_params = tuner1.get_best_hyperparameters()\n",
    "\n",
    "best_params[0].values"
   ]
  },
  {
   "cell_type": "code",
   "execution_count": null,
   "metadata": {},
   "outputs": [],
   "source": []
  },
  {
   "cell_type": "code",
   "execution_count": null,
   "metadata": {},
   "outputs": [],
   "source": []
  },
  {
   "cell_type": "code",
   "execution_count": 11,
   "metadata": {},
   "outputs": [
    {
     "ename": "ValueError",
     "evalue": "If using all scalar values, you must pass an index",
     "output_type": "error",
     "traceback": [
      "\u001b[1;31m---------------------------------------------------------------------------\u001b[0m",
      "\u001b[1;31mValueError\u001b[0m                                Traceback (most recent call last)",
      "\u001b[1;32md:\\bro\\Analysis\\mSANN\\cd\\test\\sobelnetwork.ipynb Cell 11\u001b[0m in \u001b[0;36m<cell line: 1>\u001b[1;34m()\u001b[0m\n\u001b[1;32m----> <a href='vscode-notebook-cell:/d%3A/bro/Analysis/mSANN/cd/test/sobelnetwork.ipynb#X44sZmlsZQ%3D%3D?line=0'>1</a>\u001b[0m pd\u001b[39m.\u001b[39;49mDataFrame\u001b[39m.\u001b[39;49mfrom_dict(best_params[\u001b[39m0\u001b[39;49m]\u001b[39m.\u001b[39;49mvalues)\u001b[39m.\u001b[39mto_csv(\u001b[39m\"\u001b[39m\u001b[39mabc.csv\u001b[39m\u001b[39m\"\u001b[39m)\n",
      "File \u001b[1;32mc:\\Users\\kiran.franklin\\Anaconda3\\lib\\site-packages\\pandas\\core\\frame.py:1677\u001b[0m, in \u001b[0;36mDataFrame.from_dict\u001b[1;34m(cls, data, orient, dtype, columns)\u001b[0m\n\u001b[0;32m   1674\u001b[0m     \u001b[39mraise\u001b[39;00m \u001b[39mValueError\u001b[39;00m(\u001b[39m\"\u001b[39m\u001b[39monly recognize index or columns for orient\u001b[39m\u001b[39m\"\u001b[39m)\n\u001b[0;32m   1676\u001b[0m \u001b[39mif\u001b[39;00m orient \u001b[39m!=\u001b[39m \u001b[39m\"\u001b[39m\u001b[39mtight\u001b[39m\u001b[39m\"\u001b[39m:\n\u001b[1;32m-> 1677\u001b[0m     \u001b[39mreturn\u001b[39;00m \u001b[39mcls\u001b[39;49m(data, index\u001b[39m=\u001b[39;49mindex, columns\u001b[39m=\u001b[39;49mcolumns, dtype\u001b[39m=\u001b[39;49mdtype)\n\u001b[0;32m   1678\u001b[0m \u001b[39melse\u001b[39;00m:\n\u001b[0;32m   1679\u001b[0m     realdata \u001b[39m=\u001b[39m data[\u001b[39m\"\u001b[39m\u001b[39mdata\u001b[39m\u001b[39m\"\u001b[39m]\n",
      "File \u001b[1;32mc:\\Users\\kiran.franklin\\Anaconda3\\lib\\site-packages\\pandas\\core\\frame.py:636\u001b[0m, in \u001b[0;36mDataFrame.__init__\u001b[1;34m(self, data, index, columns, dtype, copy)\u001b[0m\n\u001b[0;32m    630\u001b[0m     mgr \u001b[39m=\u001b[39m \u001b[39mself\u001b[39m\u001b[39m.\u001b[39m_init_mgr(\n\u001b[0;32m    631\u001b[0m         data, axes\u001b[39m=\u001b[39m{\u001b[39m\"\u001b[39m\u001b[39mindex\u001b[39m\u001b[39m\"\u001b[39m: index, \u001b[39m\"\u001b[39m\u001b[39mcolumns\u001b[39m\u001b[39m\"\u001b[39m: columns}, dtype\u001b[39m=\u001b[39mdtype, copy\u001b[39m=\u001b[39mcopy\n\u001b[0;32m    632\u001b[0m     )\n\u001b[0;32m    634\u001b[0m \u001b[39melif\u001b[39;00m \u001b[39misinstance\u001b[39m(data, \u001b[39mdict\u001b[39m):\n\u001b[0;32m    635\u001b[0m     \u001b[39m# GH#38939 de facto copy defaults to False only in non-dict cases\u001b[39;00m\n\u001b[1;32m--> 636\u001b[0m     mgr \u001b[39m=\u001b[39m dict_to_mgr(data, index, columns, dtype\u001b[39m=\u001b[39;49mdtype, copy\u001b[39m=\u001b[39;49mcopy, typ\u001b[39m=\u001b[39;49mmanager)\n\u001b[0;32m    637\u001b[0m \u001b[39melif\u001b[39;00m \u001b[39misinstance\u001b[39m(data, ma\u001b[39m.\u001b[39mMaskedArray):\n\u001b[0;32m    638\u001b[0m     \u001b[39mimport\u001b[39;00m \u001b[39mnumpy\u001b[39;00m\u001b[39m.\u001b[39;00m\u001b[39mma\u001b[39;00m\u001b[39m.\u001b[39;00m\u001b[39mmrecords\u001b[39;00m \u001b[39mas\u001b[39;00m \u001b[39mmrecords\u001b[39;00m\n",
      "File \u001b[1;32mc:\\Users\\kiran.franklin\\Anaconda3\\lib\\site-packages\\pandas\\core\\internals\\construction.py:502\u001b[0m, in \u001b[0;36mdict_to_mgr\u001b[1;34m(data, index, columns, dtype, typ, copy)\u001b[0m\n\u001b[0;32m    494\u001b[0m     arrays \u001b[39m=\u001b[39m [\n\u001b[0;32m    495\u001b[0m         x\n\u001b[0;32m    496\u001b[0m         \u001b[39mif\u001b[39;00m \u001b[39mnot\u001b[39;00m \u001b[39mhasattr\u001b[39m(x, \u001b[39m\"\u001b[39m\u001b[39mdtype\u001b[39m\u001b[39m\"\u001b[39m) \u001b[39mor\u001b[39;00m \u001b[39mnot\u001b[39;00m \u001b[39misinstance\u001b[39m(x\u001b[39m.\u001b[39mdtype, ExtensionDtype)\n\u001b[0;32m    497\u001b[0m         \u001b[39melse\u001b[39;00m x\u001b[39m.\u001b[39mcopy()\n\u001b[0;32m    498\u001b[0m         \u001b[39mfor\u001b[39;00m x \u001b[39min\u001b[39;00m arrays\n\u001b[0;32m    499\u001b[0m     ]\n\u001b[0;32m    500\u001b[0m     \u001b[39m# TODO: can we get rid of the dt64tz special case above?\u001b[39;00m\n\u001b[1;32m--> 502\u001b[0m \u001b[39mreturn\u001b[39;00m arrays_to_mgr(arrays, columns, index, dtype\u001b[39m=\u001b[39;49mdtype, typ\u001b[39m=\u001b[39;49mtyp, consolidate\u001b[39m=\u001b[39;49mcopy)\n",
      "File \u001b[1;32mc:\\Users\\kiran.franklin\\Anaconda3\\lib\\site-packages\\pandas\\core\\internals\\construction.py:120\u001b[0m, in \u001b[0;36marrays_to_mgr\u001b[1;34m(arrays, columns, index, dtype, verify_integrity, typ, consolidate)\u001b[0m\n\u001b[0;32m    117\u001b[0m \u001b[39mif\u001b[39;00m verify_integrity:\n\u001b[0;32m    118\u001b[0m     \u001b[39m# figure out the index, if necessary\u001b[39;00m\n\u001b[0;32m    119\u001b[0m     \u001b[39mif\u001b[39;00m index \u001b[39mis\u001b[39;00m \u001b[39mNone\u001b[39;00m:\n\u001b[1;32m--> 120\u001b[0m         index \u001b[39m=\u001b[39m _extract_index(arrays)\n\u001b[0;32m    121\u001b[0m     \u001b[39melse\u001b[39;00m:\n\u001b[0;32m    122\u001b[0m         index \u001b[39m=\u001b[39m ensure_index(index)\n",
      "File \u001b[1;32mc:\\Users\\kiran.franklin\\Anaconda3\\lib\\site-packages\\pandas\\core\\internals\\construction.py:664\u001b[0m, in \u001b[0;36m_extract_index\u001b[1;34m(data)\u001b[0m\n\u001b[0;32m    661\u001b[0m         \u001b[39mraise\u001b[39;00m \u001b[39mValueError\u001b[39;00m(\u001b[39m\"\u001b[39m\u001b[39mPer-column arrays must each be 1-dimensional\u001b[39m\u001b[39m\"\u001b[39m)\n\u001b[0;32m    663\u001b[0m \u001b[39mif\u001b[39;00m \u001b[39mnot\u001b[39;00m indexes \u001b[39mand\u001b[39;00m \u001b[39mnot\u001b[39;00m raw_lengths:\n\u001b[1;32m--> 664\u001b[0m     \u001b[39mraise\u001b[39;00m \u001b[39mValueError\u001b[39;00m(\u001b[39m\"\u001b[39m\u001b[39mIf using all scalar values, you must pass an index\u001b[39m\u001b[39m\"\u001b[39m)\n\u001b[0;32m    666\u001b[0m \u001b[39melif\u001b[39;00m have_series:\n\u001b[0;32m    667\u001b[0m     index \u001b[39m=\u001b[39m union_indexes(indexes)\n",
      "\u001b[1;31mValueError\u001b[0m: If using all scalar values, you must pass an index"
     ]
    }
   ],
   "source": [
    "pd.DataFrame.from_dict(best_params[0].values).to_csv(\"abc.csv\")"
   ]
  },
  {
   "cell_type": "code",
   "execution_count": 13,
   "metadata": {},
   "outputs": [],
   "source": [
    "import yaml,sys"
   ]
  },
  {
   "cell_type": "code",
   "execution_count": 14,
   "metadata": {},
   "outputs": [
    {
     "name": "stderr",
     "output_type": "stream",
     "text": [
      "file_name_ids_inside form: {'layer_1': 141, 'layer_2': 161, 'layer_3': 171, 'layer_4': 171, 'layer_5': 91, 'layer_6': 156, 'learning_rate': 0.001, 'drop_out': 0.25}\n"
     ]
    }
   ],
   "source": [
    "with io.open('variable.yaml', 'w', encoding='utf8') as outfile:\n",
    "    yaml.dump(best_params[0].values, outfile, default_flow_style=False, allow_unicode=True)\n",
    "print(\"file_name_ids_inside form:\",best_params[0].values,file=sys.stderr)"
   ]
  },
  {
   "cell_type": "code",
   "execution_count": 22,
   "metadata": {},
   "outputs": [
    {
     "ename": "KeyError",
     "evalue": "0",
     "output_type": "error",
     "traceback": [
      "\u001b[1;31m---------------------------------------------------------------------------\u001b[0m",
      "\u001b[1;31mKeyError\u001b[0m                                  Traceback (most recent call last)",
      "\u001b[1;32md:\\bro\\Analysis\\mSANN\\cd\\test\\sobelnetwork.ipynb Cell 14\u001b[0m in \u001b[0;36m<cell line: 1>\u001b[1;34m()\u001b[0m\n\u001b[1;32m----> <a href='vscode-notebook-cell:/d%3A/bro/Analysis/mSANN/cd/test/sobelnetwork.ipynb#X52sZmlsZQ%3D%3D?line=0'>1</a>\u001b[0m best_params[\u001b[39m0\u001b[39;49m]\u001b[39m.\u001b[39;49mvalues[\u001b[39m0\u001b[39;49m]\n",
      "\u001b[1;31mKeyError\u001b[0m: 0"
     ]
    }
   ],
   "source": [
    "best_params[0].values"
   ]
  },
  {
   "cell_type": "code",
   "execution_count": null,
   "metadata": {},
   "outputs": [],
   "source": []
  },
  {
   "cell_type": "code",
   "execution_count": 19,
   "metadata": {},
   "outputs": [
    {
     "name": "stdout",
     "output_type": "stream",
     "text": [
      "0 2\n",
      "1 3\n"
     ]
    }
   ],
   "source": [
    "for i,r in enumerate(range(2,4)):\n",
    "    print(i,r)"
   ]
  },
  {
   "cell_type": "code",
   "execution_count": 10,
   "metadata": {},
   "outputs": [],
   "source": [
    "best_model = tuner1.get_best_models()[0]\n"
   ]
  },
  {
   "cell_type": "code",
   "execution_count": 15,
   "metadata": {},
   "outputs": [
    {
     "name": "stdout",
     "output_type": "stream",
     "text": [
      "Epoch 1/10\n",
      "1314/1314 [==============================] - 5s 3ms/step - loss: 1.9062e-05 - mean_squared_error: 1.9062e-05 - mean_absolute_error: 0.0030 - mean_absolute_percentage_error: 24.5227 - mean_squared_logarithmic_error: 1.8407e-05 - val_loss: 2.7450e-05 - val_mean_squared_error: 2.7450e-05 - val_mean_absolute_error: 0.0044 - val_mean_absolute_percentage_error: 40.6433 - val_mean_squared_logarithmic_error: 2.6535e-05\n",
      "Epoch 2/10\n",
      "1314/1314 [==============================] - 4s 3ms/step - loss: 1.8789e-05 - mean_squared_error: 1.8789e-05 - mean_absolute_error: 0.0029 - mean_absolute_percentage_error: 24.2957 - mean_squared_logarithmic_error: 1.8141e-05 - val_loss: 1.6546e-05 - val_mean_squared_error: 1.6546e-05 - val_mean_absolute_error: 0.0022 - val_mean_absolute_percentage_error: 15.4148 - val_mean_squared_logarithmic_error: 1.5862e-05\n",
      "Epoch 3/10\n",
      "1314/1314 [==============================] - 4s 3ms/step - loss: 1.9653e-05 - mean_squared_error: 1.9653e-05 - mean_absolute_error: 0.0031 - mean_absolute_percentage_error: 25.2901 - mean_squared_logarithmic_error: 1.8985e-05 - val_loss: 3.2131e-05 - val_mean_squared_error: 3.2131e-05 - val_mean_absolute_error: 0.0049 - val_mean_absolute_percentage_error: 45.5971 - val_mean_squared_logarithmic_error: 3.1090e-05\n",
      "Epoch 4/10\n",
      "1314/1314 [==============================] - 4s 3ms/step - loss: 1.9059e-05 - mean_squared_error: 1.9059e-05 - mean_absolute_error: 0.0030 - mean_absolute_percentage_error: 24.3548 - mean_squared_logarithmic_error: 1.8405e-05 - val_loss: 1.5658e-05 - val_mean_squared_error: 1.5658e-05 - val_mean_absolute_error: 0.0021 - val_mean_absolute_percentage_error: 15.4844 - val_mean_squared_logarithmic_error: 1.4999e-05\n",
      "Epoch 5/10\n",
      "1314/1314 [==============================] - 5s 4ms/step - loss: 1.8696e-05 - mean_squared_error: 1.8696e-05 - mean_absolute_error: 0.0029 - mean_absolute_percentage_error: 24.0720 - mean_squared_logarithmic_error: 1.8050e-05 - val_loss: 3.9380e-05 - val_mean_squared_error: 3.9380e-05 - val_mean_absolute_error: 0.0056 - val_mean_absolute_percentage_error: 52.2519 - val_mean_squared_logarithmic_error: 3.8133e-05\n",
      "Epoch 6/10\n",
      "1314/1314 [==============================] - 5s 4ms/step - loss: 1.9248e-05 - mean_squared_error: 1.9248e-05 - mean_absolute_error: 0.0030 - mean_absolute_percentage_error: 24.7089 - mean_squared_logarithmic_error: 1.8589e-05 - val_loss: 2.9782e-05 - val_mean_squared_error: 2.9782e-05 - val_mean_absolute_error: 0.0039 - val_mean_absolute_percentage_error: 28.6058 - val_mean_squared_logarithmic_error: 2.8807e-05\n",
      "Epoch 7/10\n",
      "1314/1314 [==============================] - 5s 4ms/step - loss: 1.9025e-05 - mean_squared_error: 1.9025e-05 - mean_absolute_error: 0.0030 - mean_absolute_percentage_error: 24.5816 - mean_squared_logarithmic_error: 1.8373e-05 - val_loss: 1.6106e-05 - val_mean_squared_error: 1.6106e-05 - val_mean_absolute_error: 0.0027 - val_mean_absolute_percentage_error: 23.0157 - val_mean_squared_logarithmic_error: 1.5463e-05\n",
      "Epoch 8/10\n",
      "1314/1314 [==============================] - 6s 4ms/step - loss: 1.9280e-05 - mean_squared_error: 1.9280e-05 - mean_absolute_error: 0.0030 - mean_absolute_percentage_error: 24.5560 - mean_squared_logarithmic_error: 1.8618e-05 - val_loss: 2.3959e-05 - val_mean_squared_error: 2.3959e-05 - val_mean_absolute_error: 0.0031 - val_mean_absolute_percentage_error: 21.9543 - val_mean_squared_logarithmic_error: 2.3102e-05\n",
      "Epoch 9/10\n",
      "1314/1314 [==============================] - 5s 4ms/step - loss: 1.8446e-05 - mean_squared_error: 1.8446e-05 - mean_absolute_error: 0.0029 - mean_absolute_percentage_error: 23.7769 - mean_squared_logarithmic_error: 1.7806e-05 - val_loss: 1.9802e-05 - val_mean_squared_error: 1.9802e-05 - val_mean_absolute_error: 0.0034 - val_mean_absolute_percentage_error: 30.4329 - val_mean_squared_logarithmic_error: 1.9079e-05\n",
      "Epoch 10/10\n",
      "1314/1314 [==============================] - 4s 3ms/step - loss: 1.8511e-05 - mean_squared_error: 1.8511e-05 - mean_absolute_error: 0.0029 - mean_absolute_percentage_error: 23.8986 - mean_squared_logarithmic_error: 1.7870e-05 - val_loss: 1.5304e-05 - val_mean_squared_error: 1.5304e-05 - val_mean_absolute_error: 0.0021 - val_mean_absolute_percentage_error: 15.7808 - val_mean_squared_logarithmic_error: 1.4656e-05\n"
     ]
    }
   ],
   "source": [
    "history=best_model.fit(dep_train, indep_train, batch_size=32, epochs=10, validation_data=(dep_val, indep_val))"
   ]
  },
  {
   "cell_type": "code",
   "execution_count": 13,
   "metadata": {},
   "outputs": [],
   "source": [
    "pd.DataFrame(history.history).to_csv(\"jwfhj.csv\")"
   ]
  },
  {
   "cell_type": "code",
   "execution_count": 16,
   "metadata": {},
   "outputs": [
    {
     "data": {
      "image/png": "[encoded data removed]",
      "text/plain": [
       "<Figure size 576x360 with 1 Axes>"
      ]
     },
     "metadata": {
      "needs_background": "light"
     },
     "output_type": "display_data"
    }
   ],
   "source": [
    "import matplotlib.pyplot as plt\n",
    "\n",
    "pd.DataFrame(history.history).plot(figsize=(8,5))\n",
    "plt.show()"
   ]
  },
  {
   "cell_type": "code",
   "execution_count": 14,
   "metadata": {},
   "outputs": [],
   "source": [
    "mean_squared_error = history.history['mean_squared_error']\n",
    "val_mean_squared_error = history.history['val_mean_squared_error']\n",
    "loss = history.history['loss']\n",
    "val_loss = history.history['val_loss']"
   ]
  },
  {
   "cell_type": "code",
   "execution_count": 17,
   "metadata": {},
   "outputs": [
    {
     "data": {
      "image/png": "[encoded data removed]",
      "text/plain": [
       "<Figure size 432x288 with 1 Axes>"
      ]
     },
     "metadata": {
      "needs_background": "light"
     },
     "output_type": "display_data"
    },
    {
     "data": {
      "image/png": "[encoded data removed]",
      "text/plain": [
       "<Figure size 432x288 with 1 Axes>"
      ]
     },
     "metadata": {
      "needs_background": "light"
     },
     "output_type": "display_data"
    }
   ],
   "source": [
    "import matplotlib.pyplot as plt\n",
    "\n",
    "epochs = range(1, len(mean_squared_error) + 1)\n",
    "\n",
    "plt.plot(epochs, mean_squared_error, 'bo', label='mean_squared_error ')\n",
    "plt.plot(epochs, val_mean_squared_error, 'b', label='Validation mean_squared_error')\n",
    "plt.title('Training and validation mean_squared_error')\n",
    "plt.legend()\n",
    "\n",
    "plt.figure()\n",
    "\n",
    "plt.plot(epochs, loss, 'bo', label='Training loss')\n",
    "plt.plot(epochs, val_loss, 'b', label='Validation loss')\n",
    "plt.title('Training and validation loss')\n",
    "plt.legend()\n",
    "\n",
    "plt.show()"
   ]
  },
  {
   "cell_type": "code",
   "execution_count": 18,
   "metadata": {},
   "outputs": [
    {
     "name": "stdout",
     "output_type": "stream",
     "text": [
      "342/342 [==============================] - 3s 7ms/step\n"
     ]
    }
   ],
   "source": [
    "predict_=best_model.predict(dep_test)"
   ]
  },
  {
   "cell_type": "code",
   "execution_count": 37,
   "metadata": {},
   "outputs": [],
   "source": [
    "# predict=predict_.reshape(1,0)\n",
    "predict=np.concatenate(predict_)"
   ]
  },
  {
   "cell_type": "code",
   "execution_count": 38,
   "metadata": {},
   "outputs": [],
   "source": [
    "temp_df=pd.DataFrame(zip(indep_test['target'],predict),columns=['test_y','predict_y'])\n"
   ]
  },
  {
   "cell_type": "code",
   "execution_count": 39,
   "metadata": {},
   "outputs": [
    {
     "data": {
      "text/html": [
       "<div>\n",
       "<style scoped>\n",
       "    .dataframe tbody tr th:only-of-type {\n",
       "        vertical-align: middle;\n",
       "    }\n",
       "\n",
       "    .dataframe tbody tr th {\n",
       "        vertical-align: top;\n",
       "    }\n",
       "\n",
       "    .dataframe thead th {\n",
       "        text-align: right;\n",
       "    }\n",
       "</style>\n",
       "<table border=\"1\" class=\"dataframe\">\n",
       "  <thead>\n",
       "    <tr style=\"text-align: right;\">\n",
       "      <th></th>\n",
       "      <th>test_y</th>\n",
       "      <th>predict_y</th>\n",
       "    </tr>\n",
       "  </thead>\n",
       "  <tbody>\n",
       "    <tr>\n",
       "      <th>0</th>\n",
       "      <td>0.016498</td>\n",
       "      <td>0.050218</td>\n",
       "    </tr>\n",
       "    <tr>\n",
       "      <th>1</th>\n",
       "      <td>0.014071</td>\n",
       "      <td>0.050220</td>\n",
       "    </tr>\n",
       "    <tr>\n",
       "      <th>2</th>\n",
       "      <td>0.016428</td>\n",
       "      <td>0.050218</td>\n",
       "    </tr>\n",
       "    <tr>\n",
       "      <th>3</th>\n",
       "      <td>0.012589</td>\n",
       "      <td>0.050216</td>\n",
       "    </tr>\n",
       "    <tr>\n",
       "      <th>4</th>\n",
       "      <td>0.013429</td>\n",
       "      <td>0.050218</td>\n",
       "    </tr>\n",
       "    <tr>\n",
       "      <th>...</th>\n",
       "      <td>...</td>\n",
       "      <td>...</td>\n",
       "    </tr>\n",
       "    <tr>\n",
       "      <th>10929</th>\n",
       "      <td>0.013651</td>\n",
       "      <td>0.050220</td>\n",
       "    </tr>\n",
       "    <tr>\n",
       "      <th>10930</th>\n",
       "      <td>0.015405</td>\n",
       "      <td>0.050215</td>\n",
       "    </tr>\n",
       "    <tr>\n",
       "      <th>10931</th>\n",
       "      <td>0.011664</td>\n",
       "      <td>0.050219</td>\n",
       "    </tr>\n",
       "    <tr>\n",
       "      <th>10932</th>\n",
       "      <td>0.015707</td>\n",
       "      <td>0.050219</td>\n",
       "    </tr>\n",
       "    <tr>\n",
       "      <th>10933</th>\n",
       "      <td>0.009592</td>\n",
       "      <td>0.050214</td>\n",
       "    </tr>\n",
       "  </tbody>\n",
       "</table>\n",
       "<p>10934 rows × 2 columns</p>\n",
       "</div>"
      ],
      "text/plain": [
       "         test_y  predict_y\n",
       "0      0.016498   0.050218\n",
       "1      0.014071   0.050220\n",
       "2      0.016428   0.050218\n",
       "3      0.012589   0.050216\n",
       "4      0.013429   0.050218\n",
       "...         ...        ...\n",
       "10929  0.013651   0.050220\n",
       "10930  0.015405   0.050215\n",
       "10931  0.011664   0.050219\n",
       "10932  0.015707   0.050219\n",
       "10933  0.009592   0.050214\n",
       "\n",
       "[10934 rows x 2 columns]"
      ]
     },
     "execution_count": 39,
     "metadata": {},
     "output_type": "execute_result"
    }
   ],
   "source": [
    "temp_df"
   ]
  },
  {
   "cell_type": "code",
   "execution_count": 40,
   "metadata": {},
   "outputs": [
    {
     "data": {
      "text/html": [
       "<div>\n",
       "<style scoped>\n",
       "    .dataframe tbody tr th:only-of-type {\n",
       "        vertical-align: middle;\n",
       "    }\n",
       "\n",
       "    .dataframe tbody tr th {\n",
       "        vertical-align: top;\n",
       "    }\n",
       "\n",
       "    .dataframe thead th {\n",
       "        text-align: right;\n",
       "    }\n",
       "</style>\n",
       "<table border=\"1\" class=\"dataframe\">\n",
       "  <thead>\n",
       "    <tr style=\"text-align: right;\">\n",
       "      <th></th>\n",
       "      <th>test_y</th>\n",
       "      <th>predict_y</th>\n",
       "      <th>index</th>\n",
       "    </tr>\n",
       "  </thead>\n",
       "  <tbody>\n",
       "    <tr>\n",
       "      <th>3640</th>\n",
       "      <td>0.007435</td>\n",
       "      <td>0.050214</td>\n",
       "      <td>1</td>\n",
       "    </tr>\n",
       "    <tr>\n",
       "      <th>7652</th>\n",
       "      <td>0.007471</td>\n",
       "      <td>0.050214</td>\n",
       "      <td>2</td>\n",
       "    </tr>\n",
       "    <tr>\n",
       "      <th>2785</th>\n",
       "      <td>0.007496</td>\n",
       "      <td>0.050214</td>\n",
       "      <td>3</td>\n",
       "    </tr>\n",
       "    <tr>\n",
       "      <th>10489</th>\n",
       "      <td>0.007526</td>\n",
       "      <td>0.050214</td>\n",
       "      <td>4</td>\n",
       "    </tr>\n",
       "    <tr>\n",
       "      <th>1359</th>\n",
       "      <td>0.007535</td>\n",
       "      <td>0.050214</td>\n",
       "      <td>5</td>\n",
       "    </tr>\n",
       "  </tbody>\n",
       "</table>\n",
       "</div>"
      ],
      "text/plain": [
       "         test_y  predict_y  index\n",
       "3640   0.007435   0.050214      1\n",
       "7652   0.007471   0.050214      2\n",
       "2785   0.007496   0.050214      3\n",
       "10489  0.007526   0.050214      4\n",
       "1359   0.007535   0.050214      5"
      ]
     },
     "execution_count": 40,
     "metadata": {},
     "output_type": "execute_result"
    }
   ],
   "source": [
    "temp_df=temp_df.sort_values('test_y')\n",
    "ind=[index_ for index_ in range(1,len(predict_)+1)]\n",
    "temp_df['index']=ind\n",
    "temp_df.head()"
   ]
  },
  {
   "cell_type": "code",
   "execution_count": 43,
   "metadata": {},
   "outputs": [
    {
     "data": {
      "text/html": [
       "<div>\n",
       "<style scoped>\n",
       "    .dataframe tbody tr th:only-of-type {\n",
       "        vertical-align: middle;\n",
       "    }\n",
       "\n",
       "    .dataframe tbody tr th {\n",
       "        vertical-align: top;\n",
       "    }\n",
       "\n",
       "    .dataframe thead th {\n",
       "        text-align: right;\n",
       "    }\n",
       "</style>\n",
       "<table border=\"1\" class=\"dataframe\">\n",
       "  <thead>\n",
       "    <tr style=\"text-align: right;\">\n",
       "      <th></th>\n",
       "      <th>test_y</th>\n",
       "      <th>predict_y</th>\n",
       "      <th>index</th>\n",
       "    </tr>\n",
       "  </thead>\n",
       "  <tbody>\n",
       "    <tr>\n",
       "      <th>count</th>\n",
       "      <td>10934.000000</td>\n",
       "      <td>10934.000000</td>\n",
       "      <td>10934.000000</td>\n",
       "    </tr>\n",
       "    <tr>\n",
       "      <th>mean</th>\n",
       "      <td>0.011885</td>\n",
       "      <td>0.050220</td>\n",
       "      <td>5467.500000</td>\n",
       "    </tr>\n",
       "    <tr>\n",
       "      <th>std</th>\n",
       "      <td>0.003620</td>\n",
       "      <td>0.000004</td>\n",
       "      <td>3156.518256</td>\n",
       "    </tr>\n",
       "    <tr>\n",
       "      <th>min</th>\n",
       "      <td>0.007435</td>\n",
       "      <td>0.050213</td>\n",
       "      <td>1.000000</td>\n",
       "    </tr>\n",
       "    <tr>\n",
       "      <th>25%</th>\n",
       "      <td>0.009836</td>\n",
       "      <td>0.050215</td>\n",
       "      <td>2734.250000</td>\n",
       "    </tr>\n",
       "    <tr>\n",
       "      <th>50%</th>\n",
       "      <td>0.011136</td>\n",
       "      <td>0.050218</td>\n",
       "      <td>5467.500000</td>\n",
       "    </tr>\n",
       "    <tr>\n",
       "      <th>75%</th>\n",
       "      <td>0.012847</td>\n",
       "      <td>0.050220</td>\n",
       "      <td>8200.750000</td>\n",
       "    </tr>\n",
       "    <tr>\n",
       "      <th>max</th>\n",
       "      <td>0.066101</td>\n",
       "      <td>0.050221</td>\n",
       "      <td>10934.000000</td>\n",
       "    </tr>\n",
       "  </tbody>\n",
       "</table>\n",
       "</div>"
      ],
      "text/plain": [
       "             test_y     predict_y         index\n",
       "count  10934.000000  10934.000000  10934.000000\n",
       "mean       0.011885      0.050220   5467.500000\n",
       "std        0.003620      0.000004   3156.518256\n",
       "min        0.007435      0.050213      1.000000\n",
       "25%        0.009836      0.050215   2734.250000\n",
       "50%        0.011136      0.050218   5467.500000\n",
       "75%        0.012847      0.050220   8200.750000\n",
       "max        0.066101      0.050221  10934.000000"
      ]
     },
     "execution_count": 43,
     "metadata": {},
     "output_type": "execute_result"
    }
   ],
   "source": [
    "temp_df.describe()"
   ]
  },
  {
   "cell_type": "code",
   "execution_count": 41,
   "metadata": {},
   "outputs": [
    {
     "data": {
      "text/plain": [
       "<AxesSubplot:xlabel='index'>"
      ]
     },
     "execution_count": 41,
     "metadata": {},
     "output_type": "execute_result"
    },
    {
     "data": {
      "image/png": "[encoded data removed]",
      "text/plain": [
       "<Figure size 720x360 with 1 Axes>"
      ]
     },
     "metadata": {
      "needs_background": "light"
     },
     "output_type": "display_data"
    }
   ],
   "source": [
    "temp_df.plot(x='index',y=['test_y','predict_y'],figsize=(10,5),grid=True)"
   ]
  },
  {
   "cell_type": "code",
   "execution_count": 44,
   "metadata": {},
   "outputs": [
    {
     "name": "stdout",
     "output_type": "stream",
     "text": [
      "You must install pydot (`pip install pydot`) and install graphviz (see instructions at https://graphviz.gitlab.io/download/) for plot_model to work.\n"
     ]
    }
   ],
   "source": [
    "tf.keras.utils.plot_model(best_model, show_shapes=True, rankdir=\"LR\")"
   ]
  },
  {
   "cell_type": "code",
   "execution_count": 46,
   "metadata": {},
   "outputs": [
    {
     "name": "stdout",
     "output_type": "stream",
     "text": [
      "342/342 [==============================] - 3s 7ms/step - loss: 0.0015 - mean_squared_error: 0.0015\n"
     ]
    },
    {
     "data": {
      "text/plain": [
       "(0.0014824592508375645, 0.0014824592508375645)"
      ]
     },
     "execution_count": 46,
     "metadata": {},
     "output_type": "execute_result"
    }
   ],
   "source": [
    "loss, MSE=best_model.evaluate(dep_test, indep_test)\n",
    "loss,MSE"
   ]
  },
  {
   "cell_type": "code",
   "execution_count": 58,
   "metadata": {},
   "outputs": [
    {
     "ename": "ValueError",
     "evalue": "tf.enable_eager_execution must be called at program startup.",
     "output_type": "error",
     "traceback": [
      "\u001b[1;31m---------------------------------------------------------------------------\u001b[0m",
      "\u001b[1;31mValueError\u001b[0m                                Traceback (most recent call last)",
      "\u001b[1;32md:\\bro\\Analysis\\mSANN\\cd\\test\\sobelnetwork.ipynb Cell 22\u001b[0m in \u001b[0;36m<cell line: 1>\u001b[1;34m()\u001b[0m\n\u001b[1;32m----> <a href='vscode-notebook-cell:/d%3A/bro/Analysis/mSANN/cd/test/sobelnetwork.ipynb#X30sZmlsZQ%3D%3D?line=0'>1</a>\u001b[0m tf\u001b[39m.\u001b[39;49mcompat\u001b[39m.\u001b[39;49mv1\u001b[39m.\u001b[39;49menable_eager_execution()\n\u001b[0;32m      <a href='vscode-notebook-cell:/d%3A/bro/Analysis/mSANN/cd/test/sobelnetwork.ipynb#X30sZmlsZQ%3D%3D?line=1'>2</a>\u001b[0m best_model\u001b[39m.\u001b[39msave(\u001b[39m'\u001b[39m\u001b[39mtemp_model\u001b[39m\u001b[39m'\u001b[39m,save_format \u001b[39m=\u001b[39m \u001b[39m\"\u001b[39m\u001b[39mtf\u001b[39m\u001b[39m\"\u001b[39m)\n",
      "File \u001b[1;32mc:\\Users\\kiran.franklin\\Anaconda3\\lib\\site-packages\\tensorflow\\python\\framework\\ops.py:6149\u001b[0m, in \u001b[0;36menable_eager_execution\u001b[1;34m(config, device_policy, execution_mode)\u001b[0m\n\u001b[0;32m   6147\u001b[0m logging\u001b[39m.\u001b[39mvlog(\u001b[39m1\u001b[39m, \u001b[39m\"\u001b[39m\u001b[39mEnabling eager execution\u001b[39m\u001b[39m\"\u001b[39m)\n\u001b[0;32m   6148\u001b[0m \u001b[39mif\u001b[39;00m context\u001b[39m.\u001b[39mdefault_execution_mode \u001b[39m!=\u001b[39m context\u001b[39m.\u001b[39mEAGER_MODE:\n\u001b[1;32m-> 6149\u001b[0m   \u001b[39mreturn\u001b[39;00m enable_eager_execution_internal(\n\u001b[0;32m   6150\u001b[0m       config\u001b[39m=\u001b[39;49mconfig,\n\u001b[0;32m   6151\u001b[0m       device_policy\u001b[39m=\u001b[39;49mdevice_policy,\n\u001b[0;32m   6152\u001b[0m       execution_mode\u001b[39m=\u001b[39;49mexecution_mode,\n\u001b[0;32m   6153\u001b[0m       server_def\u001b[39m=\u001b[39;49m\u001b[39mNone\u001b[39;49;00m)\n",
      "File \u001b[1;32mc:\\Users\\kiran.franklin\\Anaconda3\\lib\\site-packages\\tensorflow\\python\\framework\\ops.py:6217\u001b[0m, in \u001b[0;36menable_eager_execution_internal\u001b[1;34m(config, device_policy, execution_mode, server_def)\u001b[0m\n\u001b[0;32m   6214\u001b[0m   graph_mode_has_been_used \u001b[39m=\u001b[39m (\n\u001b[0;32m   6215\u001b[0m       _default_graph_stack\u001b[39m.\u001b[39m_global_default_graph \u001b[39mis\u001b[39;00m \u001b[39mnot\u001b[39;00m \u001b[39mNone\u001b[39;00m)  \u001b[39m# pylint: disable=protected-access\u001b[39;00m\n\u001b[0;32m   6216\u001b[0m   \u001b[39mif\u001b[39;00m graph_mode_has_been_used:\n\u001b[1;32m-> 6217\u001b[0m     \u001b[39mraise\u001b[39;00m \u001b[39mValueError\u001b[39;00m(\n\u001b[0;32m   6218\u001b[0m         \u001b[39m\"\u001b[39m\u001b[39mtf.enable_eager_execution must be called at program startup.\u001b[39m\u001b[39m\"\u001b[39m)\n\u001b[0;32m   6219\u001b[0m context\u001b[39m.\u001b[39mdefault_execution_mode \u001b[39m=\u001b[39m context\u001b[39m.\u001b[39mEAGER_MODE\n\u001b[0;32m   6220\u001b[0m \u001b[39m# pylint: disable=protected-access\u001b[39;00m\n",
      "\u001b[1;31mValueError\u001b[0m: tf.enable_eager_execution must be called at program startup."
     ]
    }
   ],
   "source": [
    "tf.compat.v1.enable_eager_execution()\n",
    "best_model.save('temp_model',save_format = \"tf\")\n"
   ]
  },
  {
   "cell_type": "code",
   "execution_count": null,
   "metadata": {},
   "outputs": [],
   "source": [
    "reloaded_model = tf.keras.models.load_model('temp_model')\n",
    "predictions = reloaded_model.predict(dep_test)"
   ]
  },
  {
   "cell_type": "code",
   "execution_count": null,
   "metadata": {},
   "outputs": [],
   "source": []
  },
  {
   "cell_type": "code",
   "execution_count": 50,
   "metadata": {},
   "outputs": [
    {
     "name": "stdout",
     "output_type": "stream",
     "text": [
      "WARNING:tensorflow:From c:\\Users\\kiran.franklin\\Anaconda3\\lib\\site-packages\\tensorflow\\python\\compat\\v2_compat.py:107: disable_resource_variables (from tensorflow.python.ops.variable_scope) is deprecated and will be removed in a future version.\n",
      "Instructions for updating:\n",
      "non-resource variables are not supported in the long term\n"
     ]
    },
    {
     "ename": "TypeError",
     "evalue": "object of type 'NoneType' has no len()",
     "output_type": "error",
     "traceback": [
      "\u001b[1;31m---------------------------------------------------------------------------\u001b[0m",
      "\u001b[1;31mTypeError\u001b[0m                                 Traceback (most recent call last)",
      "\u001b[1;32md:\\bro\\Analysis\\mSANN\\cd\\test\\sobelnetwork.ipynb Cell 25\u001b[0m in \u001b[0;36m<cell line: 4>\u001b[1;34m()\u001b[0m\n\u001b[0;32m      <a href='vscode-notebook-cell:/d%3A/bro/Analysis/mSANN/cd/test/sobelnetwork.ipynb#X34sZmlsZQ%3D%3D?line=1'>2</a>\u001b[0m \u001b[39mimport\u001b[39;00m \u001b[39mshap\u001b[39;00m\n\u001b[0;32m      <a href='vscode-notebook-cell:/d%3A/bro/Analysis/mSANN/cd/test/sobelnetwork.ipynb#X34sZmlsZQ%3D%3D?line=2'>3</a>\u001b[0m tf\u001b[39m.\u001b[39mcompat\u001b[39m.\u001b[39mv1\u001b[39m.\u001b[39mdisable_v2_behavior()\n\u001b[1;32m----> <a href='vscode-notebook-cell:/d%3A/bro/Analysis/mSANN/cd/test/sobelnetwork.ipynb#X34sZmlsZQ%3D%3D?line=3'>4</a>\u001b[0m explainer \u001b[39m=\u001b[39m shap\u001b[39m.\u001b[39;49mDeepExplainer(best_model, dep_train)\n\u001b[0;32m      <a href='vscode-notebook-cell:/d%3A/bro/Analysis/mSANN/cd/test/sobelnetwork.ipynb#X34sZmlsZQ%3D%3D?line=4'>5</a>\u001b[0m shap_values \u001b[39m=\u001b[39m explainer\u001b[39m.\u001b[39mshap_values(dep_test)\n",
      "File \u001b[1;32mc:\\Users\\kiran.franklin\\Anaconda3\\lib\\site-packages\\shap\\explainers\\_deep\\__init__.py:84\u001b[0m, in \u001b[0;36mDeep.__init__\u001b[1;34m(self, model, data, session, learning_phase_flags)\u001b[0m\n\u001b[0;32m     81\u001b[0m         framework \u001b[39m=\u001b[39m \u001b[39m'\u001b[39m\u001b[39mtensorflow\u001b[39m\u001b[39m'\u001b[39m\n\u001b[0;32m     83\u001b[0m \u001b[39mif\u001b[39;00m framework \u001b[39m==\u001b[39m \u001b[39m'\u001b[39m\u001b[39mtensorflow\u001b[39m\u001b[39m'\u001b[39m:\n\u001b[1;32m---> 84\u001b[0m     \u001b[39mself\u001b[39m\u001b[39m.\u001b[39mexplainer \u001b[39m=\u001b[39m TFDeep(model, data, session, learning_phase_flags)\n\u001b[0;32m     85\u001b[0m \u001b[39melif\u001b[39;00m framework \u001b[39m==\u001b[39m \u001b[39m'\u001b[39m\u001b[39mpytorch\u001b[39m\u001b[39m'\u001b[39m:\n\u001b[0;32m     86\u001b[0m     \u001b[39mself\u001b[39m\u001b[39m.\u001b[39mexplainer \u001b[39m=\u001b[39m PyTorchDeep(model, data)\n",
      "File \u001b[1;32mc:\\Users\\kiran.franklin\\Anaconda3\\lib\\site-packages\\shap\\explainers\\_deep\\deep_tf.py:104\u001b[0m, in \u001b[0;36mTFDeep.__init__\u001b[1;34m(self, model, data, session, learning_phase_flags)\u001b[0m\n\u001b[0;32m    102\u001b[0m \u001b[39m# determine the model inputs and outputs\u001b[39;00m\n\u001b[0;32m    103\u001b[0m \u001b[39mself\u001b[39m\u001b[39m.\u001b[39mmodel_inputs \u001b[39m=\u001b[39m _get_model_inputs(model)\n\u001b[1;32m--> 104\u001b[0m \u001b[39mself\u001b[39m\u001b[39m.\u001b[39mmodel_output \u001b[39m=\u001b[39m _get_model_output(model)\n\u001b[0;32m    105\u001b[0m \u001b[39massert\u001b[39;00m \u001b[39mtype\u001b[39m(\u001b[39mself\u001b[39m\u001b[39m.\u001b[39mmodel_output) \u001b[39m!=\u001b[39m \u001b[39mlist\u001b[39m, \u001b[39m\"\u001b[39m\u001b[39mThe model output to be explained must be a single tensor!\u001b[39m\u001b[39m\"\u001b[39m\n\u001b[0;32m    106\u001b[0m \u001b[39massert\u001b[39;00m \u001b[39mlen\u001b[39m(\u001b[39mself\u001b[39m\u001b[39m.\u001b[39mmodel_output\u001b[39m.\u001b[39mshape) \u001b[39m<\u001b[39m \u001b[39m3\u001b[39m, \u001b[39m\"\u001b[39m\u001b[39mThe model output must be a vector or a single value!\u001b[39m\u001b[39m\"\u001b[39m\n",
      "File \u001b[1;32mc:\\Users\\kiran.franklin\\Anaconda3\\lib\\site-packages\\shap\\explainers\\tf_utils.py:85\u001b[0m, in \u001b[0;36m_get_model_output\u001b[1;34m(model)\u001b[0m\n\u001b[0;32m     80\u001b[0m \u001b[39mif\u001b[39;00m \u001b[39mstr\u001b[39m(\u001b[39mtype\u001b[39m(model))\u001b[39m.\u001b[39mendswith(\u001b[39m\"\u001b[39m\u001b[39mkeras.engine.sequential.Sequential\u001b[39m\u001b[39m'\u001b[39m\u001b[39m>\u001b[39m\u001b[39m\"\u001b[39m) \u001b[39mor\u001b[39;00m \\\n\u001b[0;32m     81\u001b[0m     \u001b[39mstr\u001b[39m(\u001b[39mtype\u001b[39m(model))\u001b[39m.\u001b[39mendswith(\u001b[39m\"\u001b[39m\u001b[39mkeras.models.Sequential\u001b[39m\u001b[39m'\u001b[39m\u001b[39m>\u001b[39m\u001b[39m\"\u001b[39m) \u001b[39mor\u001b[39;00m \\\n\u001b[0;32m     82\u001b[0m     \u001b[39mstr\u001b[39m(\u001b[39mtype\u001b[39m(model))\u001b[39m.\u001b[39mendswith(\u001b[39m\"\u001b[39m\u001b[39mkeras.engine.training.Model\u001b[39m\u001b[39m'\u001b[39m\u001b[39m>\u001b[39m\u001b[39m\"\u001b[39m) \u001b[39mor\u001b[39;00m \\\n\u001b[0;32m     83\u001b[0m     \u001b[39misinstance\u001b[39m(model, tf\u001b[39m.\u001b[39mkeras\u001b[39m.\u001b[39mModel):\n\u001b[0;32m     84\u001b[0m     \u001b[39mif\u001b[39;00m \u001b[39mlen\u001b[39m(model\u001b[39m.\u001b[39mlayers[\u001b[39m-\u001b[39m\u001b[39m1\u001b[39m]\u001b[39m.\u001b[39m_inbound_nodes) \u001b[39m==\u001b[39m \u001b[39m0\u001b[39m:\n\u001b[1;32m---> 85\u001b[0m         \u001b[39mif\u001b[39;00m \u001b[39mlen\u001b[39;49m(model\u001b[39m.\u001b[39;49moutputs) \u001b[39m>\u001b[39m \u001b[39m1\u001b[39m:\n\u001b[0;32m     86\u001b[0m             warnings\u001b[39m.\u001b[39mwarn(\u001b[39m\"\u001b[39m\u001b[39mOnly one model output supported.\u001b[39m\u001b[39m\"\u001b[39m)\n\u001b[0;32m     87\u001b[0m         \u001b[39mreturn\u001b[39;00m model\u001b[39m.\u001b[39moutputs[\u001b[39m0\u001b[39m]\n",
      "\u001b[1;31mTypeError\u001b[0m: object of type 'NoneType' has no len()"
     ]
    }
   ],
   "source": [
    "# compute SHAP values\n",
    "import shap\n",
    "tf.compat.v1.disable_v2_behavior()\n",
    "background = X_train.iloc[np.random.choice(X_train.shape[0], 100, replace=False)]\n",
    "explainer = shap.DeepExplainer(best_model, dep_train)\n",
    "shap_values = explainer.shap_values(dep_test)"
   ]
  },
  {
   "cell_type": "code",
   "execution_count": null,
   "metadata": {},
   "outputs": [],
   "source": [
    "shap.summary_plot(shap_values[0], plot_type = 'bar', feature_names = test_data.columns)"
   ]
  },
  {
   "cell_type": "code",
   "execution_count": null,
   "metadata": {},
   "outputs": [],
   "source": [
    "shap.initjs()\n",
    "shap.force_plot(explainer.expected_value[0].numpy(), shap_values[0][0], features = test_data.columns)"
   ]
  },
  {
   "cell_type": "code",
   "execution_count": null,
   "metadata": {},
   "outputs": [],
   "source": [
    "shap.decision_plot(explainer.expected_value[0].numpy(), shap_values[0][0], features = test_data.iloc[0,:], feature_names = test_data.columns.tolist())"
   ]
  },
  {
   "cell_type": "code",
   "execution_count": null,
   "metadata": {},
   "outputs": [],
   "source": [
    "shap.plots._waterfall.waterfall_legacy(explainer.expected_value[0].numpy(), shap_values[0][0], feature_names = test_data.columns)"
   ]
  }
 ],
 "metadata": {
  "kernelspec": {
   "display_name": "Python 3.9.12 ('base')",
   "language": "python",
   "name": "python3"
  },
  "language_info": {
   "codemirror_mode": {
    "name": "ipython",
    "version": 3
   },
   "file_extension": ".py",
   "mimetype": "text/x-python",
   "name": "python",
   "nbconvert_exporter": "python",
   "pygments_lexer": "ipython3",
   "version": "3.9.12"
  },
  "orig_nbformat": 4,
  "vscode": {
   "interpreter": {
    "hash": "13bec6b3e23dd0921d86a1ec88a5a342f8b423eb92f661fc2c47e8b6a92d2fe9"
   }
  }
 },
 "nbformat": 4,
 "nbformat_minor": 2
}
