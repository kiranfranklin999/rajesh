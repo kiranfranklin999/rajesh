{
 "cells": [
  {
   "cell_type": "code",
   "execution_count": 3,
   "metadata": {},
   "outputs": [],
   "source": [
    "import  random\n",
    "import numpy as np\n",
    "import time\n",
    "import pickle"
   ]
  },
  {
   "cell_type": "code",
   "execution_count": 2,
   "metadata": {},
   "outputs": [],
   "source": [
    "import tensorflow as tf\n",
    "from tensorflow.python.saved_model import tag_constants"
   ]
  },
  {
   "cell_type": "code",
   "execution_count": 4,
   "metadata": {},
   "outputs": [],
   "source": [
    "X_subTr = np.loadtxt('XTr.dat')\n",
    "y_subCdTr = (np.loadtxt('yTr.dat')).reshape((-1,1))"
   ]
  },
  {
   "cell_type": "code",
   "execution_count": 5,
   "metadata": {},
   "outputs": [
    {
     "data": {
      "text/plain": [
       "(42039, 16)"
      ]
     },
     "execution_count": 5,
     "metadata": {},
     "output_type": "execute_result"
    }
   ],
   "source": [
    "X_subTr.shape"
   ]
  },
  {
   "cell_type": "code",
   "execution_count": 6,
   "metadata": {},
   "outputs": [
    {
     "data": {
      "text/plain": [
       "(42039, 1)"
      ]
     },
     "execution_count": 6,
     "metadata": {},
     "output_type": "execute_result"
    }
   ],
   "source": [
    "y_subCdTr.shape"
   ]
  },
  {
   "cell_type": "code",
   "execution_count": 8,
   "metadata": {},
   "outputs": [
    {
     "name": "stdout",
     "output_type": "stream",
     "text": [
      "(42039, 16) (10935, 16) (42039, 1) (10935, 1) (42039, 16) (4120, 10) (787, 10) (4120, 1) (787, 1) (4120, 10)\n"
     ]
    }
   ],
   "source": [
    "X_subTr = np.loadtxt('XTr.dat')# (42039, 16) \n",
    "X_subV = np.loadtxt('XV.dat') # (10935, 16) \n",
    "y_subCdTr = (np.loadtxt('yTr.dat')).reshape((-1,1)) # (42039, 1) \n",
    "y_subCdV = (np.loadtxt('yV.dat')).reshape((-1,1)) # (10935, 1) \n",
    "dy_subCdTr = np.loadtxt('dyTr.dat') # (42039, 16) \n",
    "X_transTr = np.loadtxt('X_transTr.dat') # (4120, 10) \n",
    "X_transV = np.loadtxt('X_transV.dat') # (787, 10) \n",
    "y_transCdTr = (np.loadtxt('y_transCdTr.dat')).reshape((-1,1)) # (4120, 1) \n",
    "y_transCdV = (np.loadtxt('y_transV.dat')).reshape((-1,1)) # (787, 1) \n",
    "dy_transCdTr = np.loadtxt('dy_transCdTr.dat') # (4120, 10)\n",
    "print(X_subTr.shape,X_subV.shape,y_subCdTr.shape,y_subCdV.shape,dy_subCdTr.shape,X_transTr.shape,X_transV.shape,y_transCdTr.shape,y_transCdV.shape,dy_transCdTr.shape)"
   ]
  },
  {
   "cell_type": "code",
   "execution_count": 9,
   "metadata": {},
   "outputs": [
    {
     "name": "stdout",
     "output_type": "stream",
     "text": [
      "42039 10935 16 4120 787 10\n"
     ]
    }
   ],
   "source": [
    "# Read dimensions of the data\n",
    "nSubTr = X_subTr.shape[0] # 42039\n",
    "nSubV = X_subV.shape[0] #  10935\n",
    "dimSub = X_subV.shape[1] # 16\n",
    "nTransTr = X_transTr.shape[0] # 4120\n",
    "nTransV = X_transV.shape[0] # 787\n",
    "dimTrans = X_transV.shape[1] # 10\n",
    "print(nSubTr,nSubV,dimSub,nTransTr,nTransV,dimTrans)"
   ]
  },
  {
   "cell_type": "code",
   "execution_count": 10,
   "metadata": {},
   "outputs": [
    {
     "name": "stdout",
     "output_type": "stream",
     "text": [
      "(46159, 24)\n",
      "(46159, 24)\n",
      "(46159, 24)\n",
      "(46159, 24)\n",
      "(11722, 24)\n",
      "(11722, 24)\n",
      "(11722, 24)\n",
      "(11722, 24)\n",
      "(46159, 1)\n",
      "(46159, 1)\n",
      "(46159, 1)\n",
      "(11722, 1)\n",
      "(11722, 1)\n",
      "(11722, 1)\n",
      "(46159, 24)\n",
      "(46159, 24)\n",
      "(46159, 24)\n",
      "(46159, 24)\n",
      "(11722, 24)\n"
     ]
    }
   ],
   "source": [
    "# Define the new design space\n",
    "XTr = np.zeros((nTransTr+nSubTr,dimTrans + dimSub - 2))\n",
    "print(XTr.shape)\n",
    "XTr[:nTransTr,:dimTrans-2] = X_transTr[:,:dimTrans-2]\n",
    "print(XTr.shape)\n",
    "XTr[nTransTr:,dimTrans-2:] = X_subTr\n",
    "print(XTr.shape)\n",
    "XTr[:nTransTr,-2:] = X_transTr[:,-2:]\n",
    "print(XTr.shape)\n",
    "XV = np.zeros((nTransV+nSubV,dimTrans + dimSub - 2))\n",
    "print(XV.shape)\n",
    "XV[:nTransV,:dimTrans-2] = X_transV[:,:dimTrans-2]\n",
    "print(XV.shape)\n",
    "XV[nTransV:,dimTrans-2:] = X_subV\n",
    "print(XV.shape)\n",
    "XV[:nTransV,-2:] = X_transV[:,-2:]\n",
    "print(XV.shape)\n",
    "yTr = np.zeros((nSubTr+nTransTr,1))\n",
    "print(yTr.shape)\n",
    "yTr[:nTransTr,0] = y_transCdTr.T\n",
    "print(yTr.shape)\n",
    "yTr[nTransTr:,0] = y_subCdTr.T\n",
    "print(yTr.shape)\n",
    "yV = np.zeros((nSubV+nTransV,1))\n",
    "print(yV.shape)\n",
    "yV[:nTransV,0] = y_transCdV.T\n",
    "print(yV.shape)\n",
    "yV[nTransV:,0] = y_subCdV.T\n",
    "print(yV.shape)\n",
    "dyTr = np.zeros((nTransTr+nSubTr,dimTrans + dimSub - 2))\n",
    "print(dyTr.shape)\n",
    "dyTr[:nTransTr,:dimTrans-2] = dy_transCdTr[:,:dimTrans-2]\n",
    "print(dyTr.shape)\n",
    "dyTr[nTransTr:,dimTrans-2:] = dy_subCdTr\n",
    "print(dyTr.shape)\n",
    "dyTr[:nTransTr,-2:] = dy_transCdTr[:,-2:]\n",
    "print(dyTr.shape)\n",
    "dyV = np.zeros((nTransV+nSubV,dimTrans + dimSub - 2))\n",
    "print(dyV.shape)\n"
   ]
  },
  {
   "cell_type": "code",
   "execution_count": 11,
   "metadata": {},
   "outputs": [
    {
     "name": "stdout",
     "output_type": "stream",
     "text": [
      "24 1 15386 46159 11722 100\n"
     ]
    }
   ],
   "source": [
    "# Set up NN parameters\n",
    "INPUT_DIM = dimTrans+dimSub-2\n",
    "OUTPUT_DIM = 1\n",
    "NUM_SAMPLES =  int(XTr.shape[0]/3)\n",
    "NUM_TRAINING = XTr.shape[0]\n",
    "NUM_VALIDATING = XV.shape[0]\n",
    "NUM_HIDDEN = 100\n",
    "print(INPUT_DIM,OUTPUT_DIM,NUM_SAMPLES,NUM_TRAINING,NUM_VALIDATING,NUM_HIDDEN)"
   ]
  },
  {
   "cell_type": "code",
   "execution_count": 12,
   "metadata": {},
   "outputs": [],
   "source": [
    "class SobolevNetwork:\n",
    "    def __init__(self, input_dim, num_hidden,init = None):\n",
    "        self.input_dim = input_dim \n",
    "        self.num_hidden = num_hidden\n",
    "        self.W1 = tf.Variable(tf.random_normal([self.input_dim, self.num_hidden],stddev=0.1))\n",
    "        self.b1 = tf.Variable(tf.ones([self.num_hidden]))\n",
    "        self.W2 = tf.Variable(tf.random_normal([self.num_hidden, self.num_hidden],stddev=0.1))\n",
    "        self.b2 = tf.Variable(tf.ones([self.num_hidden]))\n",
    "        self.W3 = tf.Variable(tf.random_normal([self.num_hidden, self.num_hidden],stddev=0.1))\n",
    "        self.b3 = tf.Variable(tf.ones([self.num_hidden]))\n",
    "        self.W4 = tf.Variable(tf.random_normal([self.num_hidden, self.num_hidden],stddev=0.1))\n",
    "        self.b4 = tf.Variable(tf.ones([self.num_hidden]))\n",
    "        self.W5 = tf.Variable(tf.random_normal([self.num_hidden, self.num_hidden],stddev=0.1))\n",
    "        self.b5 = tf.Variable(tf.ones([self.num_hidden]))\n",
    "        self.W6 = tf.Variable(tf.random_normal([self.num_hidden, self.num_hidden],stddev=0.1))\n",
    "        self.b6 = tf.Variable(tf.ones([self.num_hidden]))        \n",
    "        self.W7 = tf.Variable(tf.random_normal([self.num_hidden, 1],stddev=0.1))\n",
    "        self.b7 = tf.Variable(tf.ones([1]))\n",
    "        self.weights = [(self.W1, self.b1), (self.W2, self.b2), (self.W3, self.b3),(self.W4, self.b4), (self.W5, self.b5), (self.W6, self.b6),(self.W7, self.b7)]\n",
    "        \n",
    "\n",
    "    def forward(self, X):\n",
    "        #Input layer\n",
    "        out = X\n",
    "        #Hidden layers\n",
    "        W,b = self.weights[0]\n",
    "        out = tf.nn.tanh(tf.matmul(out, W) + b)\n",
    "        W,b = self.weights[1]\n",
    "        out = tf.nn.tanh(tf.matmul(out, W) + b)\n",
    "        W,b = self.weights[2]\n",
    "        out = tf.nn.sigmoid(tf.matmul(out, W) + b)\n",
    "        W,b = self.weights[3]\n",
    "        out = tf.nn.sigmoid(tf.matmul(out, W) + b)\n",
    "        W,b = self.weights[4]\n",
    "        out = tf.nn.leaky_relu(tf.matmul(out, W) + b)\n",
    "        W,b = self.weights[5]\n",
    "        out = tf.nn.relu(tf.matmul(out, W) + b)\n",
    "        #Output layer\n",
    "        W,b = self.weights[-1]\n",
    "        out = tf.matmul(out, W) + b\n",
    "        return out"
   ]
  },
  {
   "cell_type": "code",
   "execution_count": 15,
   "metadata": {},
   "outputs": [
    {
     "name": "stdout",
     "output_type": "stream",
     "text": [
      "WARNING:tensorflow:From c:\\Users\\kiran.franklin\\Anaconda3\\lib\\site-packages\\tensorflow\\python\\compat\\v2_compat.py:107: disable_resource_variables (from tensorflow.python.ops.variable_scope) is deprecated and will be removed in a future version.\n",
      "Instructions for updating:\n",
      "non-resource variables are not supported in the long term\n"
     ]
    }
   ],
   "source": [
    "import tensorflow.compat.v1 as tf\n",
    "\n",
    "tf.disable_v2_behavior() "
   ]
  },
  {
   "cell_type": "code",
   "execution_count": 16,
   "metadata": {},
   "outputs": [
    {
     "name": "stdout",
     "output_type": "stream",
     "text": [
      "(?, 24) (?, 1) (?, 24)\n"
     ]
    }
   ],
   "source": [
    "# Define tensors and operations\n",
    "X = tf.placeholder(tf.float32, shape=[None, INPUT_DIM],name='X')\n",
    "y = tf.placeholder(tf.float32, shape=[None,OUTPUT_DIM],name='y')\n",
    "y_der = tf.placeholder(tf.float32, shape=[None, INPUT_DIM],name='dydX')\n",
    "print(X.shape,y.shape,y_der.shape)"
   ]
  },
  {
   "cell_type": "code",
   "execution_count": 18,
   "metadata": {},
   "outputs": [
    {
     "name": "stdout",
     "output_type": "stream",
     "text": [
      "<__main__.SobolevNetwork object at 0x000001FDB0C58B80> Tensor(\"add_6:0\", shape=(?, 1), dtype=float32)\n"
     ]
    }
   ],
   "source": [
    "model = SobolevNetwork(INPUT_DIM, NUM_HIDDEN) \n",
    "y_p = model.forward(X)\n",
    "predict_named = tf.identity(y_p, \"prediction\")\n",
    "dy = tf.gradients(y_p, X)\n",
    "predict_named = tf.identity(dy, \"gradient\")\n",
    "optimizer = tf.train.AdamOptimizer()\n",
    "print(model,y_p)"
   ]
  },
  {
   "cell_type": "code",
   "execution_count": 19,
   "metadata": {},
   "outputs": [
    {
     "data": {
      "text/plain": [
       "<tf.Tensor 'gradient:0' shape=(1, ?, 24) dtype=float32>"
      ]
     },
     "execution_count": 19,
     "metadata": {},
     "output_type": "execute_result"
    }
   ],
   "source": [
    "predict_named"
   ]
  },
  {
   "cell_type": "code",
   "execution_count": 20,
   "metadata": {},
   "outputs": [
    {
     "data": {
      "text/plain": [
       "[<tf.Tensor 'gradients/MatMul_grad/MatMul:0' shape=(?, 24) dtype=float32>]"
      ]
     },
     "execution_count": 20,
     "metadata": {},
     "output_type": "execute_result"
    }
   ],
   "source": [
    "dy"
   ]
  },
  {
   "cell_type": "code",
   "execution_count": 21,
   "metadata": {},
   "outputs": [
    {
     "data": {
      "text/plain": [
       "<tf.Tensor 'gradient:0' shape=(1, ?, 24) dtype=float32>"
      ]
     },
     "execution_count": 21,
     "metadata": {},
     "output_type": "execute_result"
    }
   ],
   "source": [
    "predict_named"
   ]
  },
  {
   "cell_type": "code",
   "execution_count": 22,
   "metadata": {},
   "outputs": [
    {
     "data": {
      "text/plain": [
       "<tensorflow.python.training.adam.AdamOptimizer at 0x1fdb368fe50>"
      ]
     },
     "execution_count": 22,
     "metadata": {},
     "output_type": "execute_result"
    }
   ],
   "source": [
    "optimizer"
   ]
  },
  {
   "cell_type": "code",
   "execution_count": 23,
   "metadata": {},
   "outputs": [],
   "source": [
    "yLossLambda = dict()\n",
    "for lam in range(11):\n",
    "    yLossLambda[lam] = tf.reduce_mean(tf.pow(y_p - tf.reshape(y,[NUM_SAMPLES,1]), 2) + lam/10. * tf.reshape(tf.reduce_sum(tf.pow(dy - y_der, 2),2),[NUM_SAMPLES,1]))\n"
   ]
  },
  {
   "cell_type": "code",
   "execution_count": 24,
   "metadata": {},
   "outputs": [
    {
     "data": {
      "text/plain": [
       "{0: <tf.Tensor 'Mean:0' shape=() dtype=float32>,\n",
       " 1: <tf.Tensor 'Mean_1:0' shape=() dtype=float32>,\n",
       " 2: <tf.Tensor 'Mean_2:0' shape=() dtype=float32>,\n",
       " 3: <tf.Tensor 'Mean_3:0' shape=() dtype=float32>,\n",
       " 4: <tf.Tensor 'Mean_4:0' shape=() dtype=float32>,\n",
       " 5: <tf.Tensor 'Mean_5:0' shape=() dtype=float32>,\n",
       " 6: <tf.Tensor 'Mean_6:0' shape=() dtype=float32>,\n",
       " 7: <tf.Tensor 'Mean_7:0' shape=() dtype=float32>,\n",
       " 8: <tf.Tensor 'Mean_8:0' shape=() dtype=float32>,\n",
       " 9: <tf.Tensor 'Mean_9:0' shape=() dtype=float32>,\n",
       " 10: <tf.Tensor 'Mean_10:0' shape=() dtype=float32>}"
      ]
     },
     "execution_count": 24,
     "metadata": {},
     "output_type": "execute_result"
    }
   ],
   "source": [
    "yLossLambda"
   ]
  },
  {
   "cell_type": "code",
   "execution_count": 25,
   "metadata": {},
   "outputs": [],
   "source": [
    "# Train storage\n",
    "optim = dict()\n",
    "timer = dict()\n",
    "resTrain = dict()\n",
    "for lam in range(11):\n",
    "    optim[lam] = optimizer.minimize(yLossLambda[lam])\n",
    "    timer[lam] = []\n",
    "    resTrain[lam] = []"
   ]
  },
  {
   "cell_type": "code",
   "execution_count": 26,
   "metadata": {},
   "outputs": [],
   "source": [
    "# Validation storage\n",
    "resValid = []\n",
    "resValid1 = []\n",
    "resValid2 = []\n",
    "\n",
    "# Saved model storage\n",
    "saver = tf.train.Saver(max_to_keep=100)\n",
    "errModel = np.zeros((1000,1000))"
   ]
  },
  {
   "cell_type": "code",
   "execution_count": 27,
   "metadata": {},
   "outputs": [
    {
     "data": {
      "text/plain": [
       "(<tensorflow.python.training.saver.Saver at 0x1fdb4c0d4c0>,\n",
       " array([[0., 0., 0., ..., 0., 0., 0.],\n",
       "        [0., 0., 0., ..., 0., 0., 0.],\n",
       "        [0., 0., 0., ..., 0., 0., 0.],\n",
       "        ...,\n",
       "        [0., 0., 0., ..., 0., 0., 0.],\n",
       "        [0., 0., 0., ..., 0., 0., 0.],\n",
       "        [0., 0., 0., ..., 0., 0., 0.]]))"
      ]
     },
     "execution_count": 27,
     "metadata": {},
     "output_type": "execute_result"
    }
   ],
   "source": [
    "saver,errModel"
   ]
  },
  {
   "cell_type": "code",
   "execution_count": 28,
   "metadata": {},
   "outputs": [],
   "source": [
    "# Sobolev optimizer\n",
    "tstart = time.time()\n",
    "sess = tf.Session()\n",
    "init = tf.global_variables_initializer()\n",
    "sess.run(init)"
   ]
  },
  {
   "cell_type": "code",
   "execution_count": 29,
   "metadata": {},
   "outputs": [
    {
     "data": {
      "text/plain": [
       "(1667414331.7105114,\n",
       " <tensorflow.python.client.session.Session at 0x1fda3a1d0d0>,\n",
       " <tf.Operation 'init' type=NoOp>,\n",
       " <tensorflow.python.client.session.Session at 0x1fda3a1d0d0>)"
      ]
     },
     "execution_count": 29,
     "metadata": {},
     "output_type": "execute_result"
    }
   ],
   "source": [
    "tstart,sess,init,sess"
   ]
  },
  {
   "cell_type": "code",
   "execution_count": 30,
   "metadata": {},
   "outputs": [],
   "source": [
    "X_valid = XV;y_valid = yV;dy_valid = dyV\n",
    "valid_dict = {X: X_valid, y: y_valid, y_der: dy_valid}    \n",
    "X_valid1 = XV[:nTransV,:];y_valid1 = yV[:nTransV,:];dy_valid1 = dyV[:nTransV,:]\n",
    "valid_dict1 = {X: X_valid1, y: y_valid1, y_der: dy_valid1}\n",
    "X_valid2 = XV[nTransV:,:];y_valid2 = yV[nTransV:,:];dy_valid2 = dyV[nTransV:,:]\n",
    "valid_dict2 = {X: X_valid2, y: y_valid2, y_der: dy_valid2}\n",
    "best_sub = 1000\n",
    "best_trans = 1000\n",
    "iter = 0"
   ]
  },
  {
   "cell_type": "code",
   "execution_count": 35,
   "metadata": {},
   "outputs": [
    {
     "data": {
      "text/plain": [
       "(11722, 24)"
      ]
     },
     "execution_count": 35,
     "metadata": {},
     "output_type": "execute_result"
    }
   ],
   "source": [
    "X_valid.shape"
   ]
  },
  {
   "cell_type": "code",
   "execution_count": 36,
   "metadata": {},
   "outputs": [],
   "source": [
    "batch_samples = random.sample(range(NUM_TRAINING),NUM_SAMPLES)\n",
    "X_train = XTr[batch_samples,:]\n",
    "y_train = yTr[batch_samples,:]\n",
    "dy_train = dyTr[batch_samples,:]\n",
    "train_dict = {X: X_train, y: y_train, y_der: dy_train}"
   ]
  },
  {
   "cell_type": "code",
   "execution_count": 40,
   "metadata": {},
   "outputs": [
    {
     "data": {
      "text/plain": [
       "((15386, 24), (15386, 1), (15386, 24))"
      ]
     },
     "execution_count": 40,
     "metadata": {},
     "output_type": "execute_result"
    }
   ],
   "source": [
    "X_train.shape,y_train.shape,dy_train.shape"
   ]
  },
  {
   "cell_type": "code",
   "execution_count": null,
   "metadata": {},
   "outputs": [],
   "source": []
  }
 ],
 "metadata": {
  "kernelspec": {
   "display_name": "Python 3.9.12 ('base')",
   "language": "python",
   "name": "python3"
  },
  "language_info": {
   "codemirror_mode": {
    "name": "ipython",
    "version": 3
   },
   "file_extension": ".py",
   "mimetype": "text/x-python",
   "name": "python",
   "nbconvert_exporter": "python",
   "pygments_lexer": "ipython3",
   "version": "3.9.12"
  },
  "orig_nbformat": 4,
  "vscode": {
   "interpreter": {
    "hash": "13bec6b3e23dd0921d86a1ec88a5a342f8b423eb92f661fc2c47e8b6a92d2fe9"
   }
  }
 },
 "nbformat": 4,
 "nbformat_minor": 2
}
